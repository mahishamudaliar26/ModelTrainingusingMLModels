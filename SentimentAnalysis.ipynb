{
 "cells": [
  {
   "cell_type": "markdown",
   "metadata": {},
   "source": [
    "# **Import libraries**\n"
   ]
  },
  {
   "cell_type": "code",
   "execution_count": 1,
   "metadata": {},
   "outputs": [
    {
     "name": "stdout",
     "output_type": "stream",
     "text": [
      "WARNING:tensorflow:From c:\\Users\\MahishaMudaliar\\anaconda3\\envs\\SentimentAnalysis\\Lib\\site-packages\\keras\\src\\losses.py:2976: The name tf.losses.sparse_softmax_cross_entropy is deprecated. Please use tf.compat.v1.losses.sparse_softmax_cross_entropy instead.\n",
      "\n"
     ]
    },
    {
     "name": "stderr",
     "output_type": "stream",
     "text": [
      "c:\\Users\\MahishaMudaliar\\anaconda3\\envs\\SentimentAnalysis\\Lib\\site-packages\\tqdm\\auto.py:21: TqdmWarning: IProgress not found. Please update jupyter and ipywidgets. See https://ipywidgets.readthedocs.io/en/stable/user_install.html\n",
      "  from .autonotebook import tqdm as notebook_tqdm\n",
      "[nltk_data] Downloading package stopwords to\n",
      "[nltk_data]     C:\\Users\\MahishaMudaliar\\AppData\\Roaming\\nltk_data...\n",
      "[nltk_data]   Package stopwords is already up-to-date!\n",
      "[nltk_data] Downloading package wordnet to\n",
      "[nltk_data]     C:\\Users\\MahishaMudaliar\\AppData\\Roaming\\nltk_data...\n",
      "[nltk_data]   Package wordnet is already up-to-date!\n",
      "[nltk_data] Downloading package omw-1.4 to\n",
      "[nltk_data]     C:\\Users\\MahishaMudaliar\\AppData\\Roaming\\nltk_data...\n",
      "[nltk_data]   Package omw-1.4 is already up-to-date!\n",
      "[nltk_data] Downloading package gutenberg to\n",
      "[nltk_data]     C:\\Users\\MahishaMudaliar\\AppData\\Roaming\\nltk_data...\n",
      "[nltk_data]   Package gutenberg is already up-to-date!\n",
      "[nltk_data] Downloading package brown to\n",
      "[nltk_data]     C:\\Users\\MahishaMudaliar\\AppData\\Roaming\\nltk_data...\n",
      "[nltk_data]   Package brown is already up-to-date!\n",
      "[nltk_data] Downloading package reuters to\n",
      "[nltk_data]     C:\\Users\\MahishaMudaliar\\AppData\\Roaming\\nltk_data...\n",
      "[nltk_data]   Package reuters is already up-to-date!\n",
      "[nltk_data] Downloading package words to\n",
      "[nltk_data]     C:\\Users\\MahishaMudaliar\\AppData\\Roaming\\nltk_data...\n",
      "[nltk_data]   Package words is already up-to-date!\n"
     ]
    },
    {
     "data": {
      "text/plain": [
       "True"
      ]
     },
     "execution_count": 1,
     "metadata": {},
     "output_type": "execute_result"
    }
   ],
   "source": [
    "import numpy as np\n",
    "import pandas as pd\n",
    "import nltk\n",
    "import tensorflow as tf\n",
    "from nltk.corpus import stopwords\n",
    "from nltk.corpus import reuters\n",
    "from nltk.corpus import brown\n",
    "from nltk.corpus import gutenberg\n",
    "from nltk.tokenize import RegexpTokenizer\n",
    "from nltk.stem import SnowballStemmer\n",
    "import matplotlib.pyplot as plt\n",
    "import seaborn as sns\n",
    "import plotly.express as px\n",
    "import pickle\n",
    "import joblib\n",
    "from collections import Counter\n",
    "from textblob import Word \n",
    "from wordcloud import WordCloud\n",
    "from sklearn.model_selection import train_test_split\n",
    "from sklearn.naive_bayes import MultinomialNB\n",
    "from sklearn.svm import LinearSVC, SVC\n",
    "from sklearn.linear_model import LogisticRegression\n",
    "from sklearn.tree import DecisionTreeClassifier\n",
    "from sklearn.ensemble import GradientBoostingClassifier, RandomForestClassifier, AdaBoostClassifier, VotingClassifier\n",
    "from sklearn.model_selection import KFold \n",
    "from sklearn.metrics import accuracy_score, classification_report, confusion_matrix, precision_score, f1_score, recall_score\n",
    "from sklearn.model_selection import cross_val_score, cross_val_predict\n",
    "from sklearn.feature_extraction.text import CountVectorizer, TfidfTransformer\n",
    "from keras.preprocessing.text import Tokenizer\n",
    "from keras.models import Sequential, load_model\n",
    "from keras.callbacks import ModelCheckpoint, EarlyStopping, ReduceLROnPlateau\n",
    "from keras_preprocessing.sequence import pad_sequences\n",
    "from keras.utils import to_categorical\n",
    "from keras.layers import Activation, Dense, Embedding, LSTM, SpatialDropout1D, Dropout, Flatten, GRU, Conv1D, MaxPooling1D, Bidirectional\n",
    "from wordcloud import WordCloud,ImageColorGenerator\n",
    "from PIL import Image\n",
    "import urllib\n",
    "import requests\n",
    "import re\n",
    "import ktrain\n",
    "from ktrain import text\n",
    "sns.set()\n",
    "%matplotlib inline\n",
    "nltk.download('stopwords')\n",
    "nltk.download('wordnet')\n",
    "nltk.download('omw-1.4')\n",
    "nltk.download('gutenberg')\n",
    "nltk.download('brown')\n",
    "nltk.download(\"reuters\")\n",
    "nltk.download('words')"
   ]
  },
  {
   "cell_type": "code",
   "execution_count": null,
   "metadata": {},
   "outputs": [],
   "source": [
    "! pip install keras_preprocessing\n"
   ]
  },
  {
   "cell_type": "markdown",
   "metadata": {},
   "source": [
    "### **Load Dataset**\n"
   ]
  },
  {
   "cell_type": "code",
   "execution_count": 2,
   "metadata": {},
   "outputs": [
    {
     "data": {
      "text/plain": [
       "category\n",
       "Employee Health, Safety & Wellness                 12\n",
       "Training & Development                             11\n",
       "Water Use & Management                             11\n",
       "Energy Management                                   8\n",
       "Waste Management & Effluents                        7\n",
       "Environmental Impact of Cotton and Other Fibres     6\n",
       "Policies, Standards, Code of Conduct                5\n",
       "Long term Viability of Core Business                5\n",
       "Community Development                               5\n",
       "Chemical Risks and Management                       4\n",
       "Communication & Engagement                          4\n",
       "Research, Development & Innovation                  4\n",
       "Access to Services                                  2\n",
       "Labour Relations & Union Practices                  2\n",
       "Board Structure & Independence                      2\n",
       "Education                                           1\n",
       "Developing Vocational Skills                        1\n",
       "Supply Chain Standards & Selection                  1\n",
       "Customer Satisfaction                               1\n",
       "Regulatory & Legal Challenges                       1\n",
       "Environmental Accidents & Remediation               1\n",
       "GHG Emissions & Air Pollution                       1\n",
       "Product Environmental Footprint                     1\n",
       "Product Quality & Safety                            1\n",
       "Product Societal Value                              1\n",
       "Supply Chain Engagement and Transparency            1\n",
       "Name: count, dtype: int64"
      ]
     },
     "execution_count": 2,
     "metadata": {},
     "output_type": "execute_result"
    }
   ],
   "source": [
    "import pandas as pd\n",
    "import chardet\n",
    "\n",
    "with open(\"Dataset.csv\", 'rb') as f:\n",
    "    result = chardet.detect(f.read())  # detects encodings like UTF-8, ASCII, ISO-8859-1\n",
    "\n",
    "df = pd.read_csv(\"Dataset.csv\", engine='python', encoding=result['encoding'])\n",
    "df['category'].value_counts()"
   ]
  },
  {
   "cell_type": "code",
   "execution_count": 3,
   "metadata": {},
   "outputs": [
    {
     "name": "stdout",
     "output_type": "stream",
     "text": [
      "                                category  \\\n",
      "0   Policies, Standards, Code of Conduct   \n",
      "1     Employee Health, Safety & Wellness   \n",
      "2   Long term Viability of Core Business   \n",
      "3                 Product Societal Value   \n",
      "4   Policies, Standards, Code of Conduct   \n",
      "..                                   ...   \n",
      "94    Employee Health, Safety & Wellness   \n",
      "95    Labour Relations & Union Practices   \n",
      "96                Training & Development   \n",
      "97                Training & Development   \n",
      "98                Training & Development   \n",
      "\n",
      "                                                 text  \n",
      "0   HILE ACTIONS ALWAYS SPEAK LOUDER THAN WORDS, W...  \n",
      "1   NURTURE TALENT ......... DO GOOD BUILD LEADERS...  \n",
      "2   COMPANY PROFILE With a market cap of USD 1.3 b...  \n",
      "3   Vision WE WILL ENABLE PEOPLE TO EXPERIENCE A B...  \n",
      "4   CHARTERS, PRINCIPLES AND COALITIONS Our long-s...  \n",
      "..                                                ...  \n",
      "94  CASE STUDY COMBATING FIRE INCIDENTS SANTEJ Cha...  \n",
      "95  We have structured policies and processes unde...  \n",
      "96  LAYING A STRONG FOUNDATION FOR PRODUCTIVITY In...  \n",
      "97  DEVELOPMENT PROGRAMMES When we develop potenti...  \n",
      "98  TRAINING & DEVELOPMENT We are committed to the...  \n",
      "\n",
      "[99 rows x 2 columns]\n"
     ]
    }
   ],
   "source": [
    "df.to_csv(\"~/Dataset.csv\", index=False)  # converts dataframe to CSV\n",
    "print(df)"
   ]
  },
  {
   "cell_type": "markdown",
   "metadata": {},
   "source": [
    "# **Data Cleaning**\n"
   ]
  },
  {
   "cell_type": "code",
   "execution_count": 4,
   "metadata": {},
   "outputs": [
    {
     "data": {
      "text/plain": [
       "category    0\n",
       "text        0\n",
       "dtype: int64"
      ]
     },
     "execution_count": 4,
     "metadata": {},
     "output_type": "execute_result"
    }
   ],
   "source": [
    "df['text']=df['text'].fillna(\"\")  # replaces all NaN with empty string\n",
    "df.isna().sum() "
   ]
  },
  {
   "cell_type": "markdown",
   "metadata": {},
   "source": [
    "# **Preprocessing**\n"
   ]
  },
  {
   "cell_type": "code",
   "execution_count": 5,
   "metadata": {},
   "outputs": [
    {
     "name": "stdout",
     "output_type": "stream",
     "text": [
      "0     hile action speak louder word articulated word...\n",
      "1     nurture talent build leader empower people pow...\n",
      "2     company profile market cap usd billion 85 rich...\n",
      "3     vision enable people experience quality life p...\n",
      "4     charter principle coalition standing commitmen...\n",
      "                            ...                        \n",
      "94    study combating fire incident santej challenge...\n",
      "95    structured policy process various management s...\n",
      "96    laying strong foundation productivity reportin...\n",
      "97    development programme develop potential tapped...\n",
      "98    training development committed growth developm...\n",
      "Name: Text, Length: 99, dtype: object\n"
     ]
    }
   ],
   "source": [
    "# Detect encoding and load CSV file\n",
    "with open(\"Dataset.csv\", 'rb') as f:\n",
    "    result = chardet.detect(f.read())\n",
    "\n",
    "df = pd.read_csv(\"Dataset.csv\", engine='python', encoding=result['encoding'])\n",
    "\n",
    "# Display the category value counts\n",
    "# print(df['category'].value_counts())\n",
    "\n",
    "# Convert to lower case, strip whitespace, and remove newline characters\n",
    "df['lower_case'] = df['text'].apply(lambda x: x.lower().strip().replace('\\n', ' ').replace('\\r', ' '))\n",
    "\n",
    "# Remove non-alphabetic characters and non-ASCII characters\n",
    "df['alphabatic'] = df['lower_case'].apply(lambda x: re.sub(r'[^a-zA-Z\\']', ' ', x)).apply(lambda x: re.sub(r'[^\\x00-\\x7F]+', '', x))\n",
    "\n",
    "# Remove URLs\n",
    "df['without-link'] = df['alphabatic'].apply(lambda x: re.sub(r'http\\S+', '', x))\n",
    "\n",
    "# Tokenize text\n",
    "tokenizer = RegexpTokenizer(r'\\w+')\n",
    "df['Special_word'] = df.apply(lambda row: tokenizer.tokenize(row['lower_case']), axis=1)\n",
    "\n",
    "# Define stopwords list\n",
    "with open(\"stopwords.txt\", 'r') as file:\n",
    "    stop = [line.strip() for line in file.readlines()]\n",
    "\n",
    "# Remove stopwords\n",
    "df['stop_words'] = df['Special_word'].apply(lambda x: [item for item in x if item not in stop])\n",
    "df['stop_words'] = df['stop_words'].astype('str')\n",
    "\n",
    "# Filter out short words\n",
    "df['short_word'] = df['stop_words'].str.findall('\\w{2,}')  # Finding out words with length of 2 words by applying regex\n",
    "df['string'] = df['short_word'].str.join(' ')   \n",
    "\n",
    "# Lemmatize text (text normalization in NLP) (returns base form of words)\n",
    "df['Text'] = df['string'].apply(lambda x: \" \".join([Word(word).lemmatize() for word in x.split()]))\n",
    "print(df['Text'])\n"
   ]
  },
  {
   "cell_type": "code",
   "execution_count": 6,
   "metadata": {},
   "outputs": [
    {
     "data": {
      "text/html": [
       "<div>\n",
       "<style scoped>\n",
       "    .dataframe tbody tr th:only-of-type {\n",
       "        vertical-align: middle;\n",
       "    }\n",
       "\n",
       "    .dataframe tbody tr th {\n",
       "        vertical-align: top;\n",
       "    }\n",
       "\n",
       "    .dataframe thead th {\n",
       "        text-align: right;\n",
       "    }\n",
       "</style>\n",
       "<table border=\"1\" class=\"dataframe\">\n",
       "  <thead>\n",
       "    <tr style=\"text-align: right;\">\n",
       "      <th></th>\n",
       "      <th>category</th>\n",
       "      <th>text</th>\n",
       "      <th>lower_case</th>\n",
       "      <th>alphabatic</th>\n",
       "      <th>without-link</th>\n",
       "      <th>Special_word</th>\n",
       "      <th>stop_words</th>\n",
       "      <th>short_word</th>\n",
       "      <th>string</th>\n",
       "      <th>Text</th>\n",
       "    </tr>\n",
       "  </thead>\n",
       "  <tbody>\n",
       "    <tr>\n",
       "      <th>0</th>\n",
       "      <td>Policies, Standards, Code of Conduct</td>\n",
       "      <td>HILE ACTIONS ALWAYS SPEAK LOUDER THAN WORDS, W...</td>\n",
       "      <td>hile actions always speak louder than words, w...</td>\n",
       "      <td>hile actions always speak louder than words  w...</td>\n",
       "      <td>hile actions always speak louder than words  w...</td>\n",
       "      <td>[hile, actions, always, speak, louder, than, w...</td>\n",
       "      <td>['hile', 'actions', 'speak', 'louder', 'words'...</td>\n",
       "      <td>[hile, actions, speak, louder, words, articula...</td>\n",
       "      <td>hile actions speak louder words articulated wo...</td>\n",
       "      <td>hile action speak louder word articulated word...</td>\n",
       "    </tr>\n",
       "    <tr>\n",
       "      <th>1</th>\n",
       "      <td>Employee Health, Safety &amp; Wellness</td>\n",
       "      <td>NURTURE TALENT ......... DO GOOD BUILD LEADERS...</td>\n",
       "      <td>nurture talent ......... do good build leaders...</td>\n",
       "      <td>nurture talent           do good build leaders...</td>\n",
       "      <td>nurture talent           do good build leaders...</td>\n",
       "      <td>[nurture, talent, do, good, build, leaders, do...</td>\n",
       "      <td>['nurture', 'talent', 'build', 'leaders', 'emp...</td>\n",
       "      <td>[nurture, talent, build, leaders, empower, peo...</td>\n",
       "      <td>nurture talent build leaders empower people po...</td>\n",
       "      <td>nurture talent build leader empower people pow...</td>\n",
       "    </tr>\n",
       "    <tr>\n",
       "      <th>2</th>\n",
       "      <td>Long term Viability of Core Business</td>\n",
       "      <td>COMPANY PROFILE With a market cap of USD 1.3 b...</td>\n",
       "      <td>company profile with a market cap of usd 1.3 b...</td>\n",
       "      <td>company profile with a market cap of usd     b...</td>\n",
       "      <td>company profile with a market cap of usd     b...</td>\n",
       "      <td>[company, profile, with, a, market, cap, of, u...</td>\n",
       "      <td>['company', 'profile', 'market', 'cap', 'usd',...</td>\n",
       "      <td>[company, profile, market, cap, usd, billion, ...</td>\n",
       "      <td>company profile market cap usd billion 85 rich...</td>\n",
       "      <td>company profile market cap usd billion 85 rich...</td>\n",
       "    </tr>\n",
       "    <tr>\n",
       "      <th>3</th>\n",
       "      <td>Product Societal Value</td>\n",
       "      <td>Vision WE WILL ENABLE PEOPLE TO EXPERIENCE A B...</td>\n",
       "      <td>vision we will enable people to experience a b...</td>\n",
       "      <td>vision we will enable people to experience a b...</td>\n",
       "      <td>vision we will enable people to experience a b...</td>\n",
       "      <td>[vision, we, will, enable, people, to, experie...</td>\n",
       "      <td>['vision', 'enable', 'people', 'experience', '...</td>\n",
       "      <td>[vision, enable, people, experience, quality, ...</td>\n",
       "      <td>vision enable people experience quality life p...</td>\n",
       "      <td>vision enable people experience quality life p...</td>\n",
       "    </tr>\n",
       "    <tr>\n",
       "      <th>4</th>\n",
       "      <td>Policies, Standards, Code of Conduct</td>\n",
       "      <td>CHARTERS, PRINCIPLES AND COALITIONS Our long-s...</td>\n",
       "      <td>charters, principles and coalitions our long-s...</td>\n",
       "      <td>charters  principles and coalitions our long s...</td>\n",
       "      <td>charters  principles and coalitions our long s...</td>\n",
       "      <td>[charters, principles, and, coalitions, our, l...</td>\n",
       "      <td>['charters', 'principles', 'coalitions', 'stan...</td>\n",
       "      <td>[charters, principles, coalitions, standing, c...</td>\n",
       "      <td>charters principles coalitions standing commit...</td>\n",
       "      <td>charter principle coalition standing commitmen...</td>\n",
       "    </tr>\n",
       "    <tr>\n",
       "      <th>...</th>\n",
       "      <td>...</td>\n",
       "      <td>...</td>\n",
       "      <td>...</td>\n",
       "      <td>...</td>\n",
       "      <td>...</td>\n",
       "      <td>...</td>\n",
       "      <td>...</td>\n",
       "      <td>...</td>\n",
       "      <td>...</td>\n",
       "      <td>...</td>\n",
       "    </tr>\n",
       "    <tr>\n",
       "      <th>94</th>\n",
       "      <td>Employee Health, Safety &amp; Wellness</td>\n",
       "      <td>CASE STUDY COMBATING FIRE INCIDENTS SANTEJ Cha...</td>\n",
       "      <td>case study combating fire incidents santej cha...</td>\n",
       "      <td>case study combating fire incidents santej cha...</td>\n",
       "      <td>case study combating fire incidents santej cha...</td>\n",
       "      <td>[case, study, combating, fire, incidents, sant...</td>\n",
       "      <td>['study', 'combating', 'fire', 'incidents', 's...</td>\n",
       "      <td>[study, combating, fire, incidents, santej, ch...</td>\n",
       "      <td>study combating fire incidents santej challeng...</td>\n",
       "      <td>study combating fire incident santej challenge...</td>\n",
       "    </tr>\n",
       "    <tr>\n",
       "      <th>95</th>\n",
       "      <td>Labour Relations &amp; Union Practices</td>\n",
       "      <td>We have structured policies and processes unde...</td>\n",
       "      <td>we have structured policies and processes unde...</td>\n",
       "      <td>we have structured policies and processes unde...</td>\n",
       "      <td>we have structured policies and processes unde...</td>\n",
       "      <td>[we, have, structured, policies, and, processe...</td>\n",
       "      <td>['structured', 'policies', 'processes', 'vario...</td>\n",
       "      <td>[structured, policies, processes, various, man...</td>\n",
       "      <td>structured policies processes various manageme...</td>\n",
       "      <td>structured policy process various management s...</td>\n",
       "    </tr>\n",
       "    <tr>\n",
       "      <th>96</th>\n",
       "      <td>Training &amp; Development</td>\n",
       "      <td>LAYING A STRONG FOUNDATION FOR PRODUCTIVITY In...</td>\n",
       "      <td>laying a strong foundation for productivity in...</td>\n",
       "      <td>laying a strong foundation for productivity in...</td>\n",
       "      <td>laying a strong foundation for productivity in...</td>\n",
       "      <td>[laying, a, strong, foundation, for, productiv...</td>\n",
       "      <td>['laying', 'strong', 'foundation', 'productivi...</td>\n",
       "      <td>[laying, strong, foundation, productivity, rep...</td>\n",
       "      <td>laying strong foundation productivity reportin...</td>\n",
       "      <td>laying strong foundation productivity reportin...</td>\n",
       "    </tr>\n",
       "    <tr>\n",
       "      <th>97</th>\n",
       "      <td>Training &amp; Development</td>\n",
       "      <td>DEVELOPMENT PROGRAMMES When we develop potenti...</td>\n",
       "      <td>development programmes when we develop potenti...</td>\n",
       "      <td>development programmes when we develop potenti...</td>\n",
       "      <td>development programmes when we develop potenti...</td>\n",
       "      <td>[development, programmes, when, we, develop, p...</td>\n",
       "      <td>['development', 'programmes', 'develop', 'pote...</td>\n",
       "      <td>[development, programmes, develop, potentials,...</td>\n",
       "      <td>development programmes develop potentials tapp...</td>\n",
       "      <td>development programme develop potential tapped...</td>\n",
       "    </tr>\n",
       "    <tr>\n",
       "      <th>98</th>\n",
       "      <td>Training &amp; Development</td>\n",
       "      <td>TRAINING &amp; DEVELOPMENT We are committed to the...</td>\n",
       "      <td>training &amp; development we are committed to the...</td>\n",
       "      <td>training   development we are committed to the...</td>\n",
       "      <td>training   development we are committed to the...</td>\n",
       "      <td>[training, development, we, are, committed, to...</td>\n",
       "      <td>['training', 'development', 'committed', 'grow...</td>\n",
       "      <td>[training, development, committed, growth, dev...</td>\n",
       "      <td>training development committed growth developm...</td>\n",
       "      <td>training development committed growth developm...</td>\n",
       "    </tr>\n",
       "  </tbody>\n",
       "</table>\n",
       "<p>99 rows × 10 columns</p>\n",
       "</div>"
      ],
      "text/plain": [
       "                                category  \\\n",
       "0   Policies, Standards, Code of Conduct   \n",
       "1     Employee Health, Safety & Wellness   \n",
       "2   Long term Viability of Core Business   \n",
       "3                 Product Societal Value   \n",
       "4   Policies, Standards, Code of Conduct   \n",
       "..                                   ...   \n",
       "94    Employee Health, Safety & Wellness   \n",
       "95    Labour Relations & Union Practices   \n",
       "96                Training & Development   \n",
       "97                Training & Development   \n",
       "98                Training & Development   \n",
       "\n",
       "                                                 text  \\\n",
       "0   HILE ACTIONS ALWAYS SPEAK LOUDER THAN WORDS, W...   \n",
       "1   NURTURE TALENT ......... DO GOOD BUILD LEADERS...   \n",
       "2   COMPANY PROFILE With a market cap of USD 1.3 b...   \n",
       "3   Vision WE WILL ENABLE PEOPLE TO EXPERIENCE A B...   \n",
       "4   CHARTERS, PRINCIPLES AND COALITIONS Our long-s...   \n",
       "..                                                ...   \n",
       "94  CASE STUDY COMBATING FIRE INCIDENTS SANTEJ Cha...   \n",
       "95  We have structured policies and processes unde...   \n",
       "96  LAYING A STRONG FOUNDATION FOR PRODUCTIVITY In...   \n",
       "97  DEVELOPMENT PROGRAMMES When we develop potenti...   \n",
       "98  TRAINING & DEVELOPMENT We are committed to the...   \n",
       "\n",
       "                                           lower_case  \\\n",
       "0   hile actions always speak louder than words, w...   \n",
       "1   nurture talent ......... do good build leaders...   \n",
       "2   company profile with a market cap of usd 1.3 b...   \n",
       "3   vision we will enable people to experience a b...   \n",
       "4   charters, principles and coalitions our long-s...   \n",
       "..                                                ...   \n",
       "94  case study combating fire incidents santej cha...   \n",
       "95  we have structured policies and processes unde...   \n",
       "96  laying a strong foundation for productivity in...   \n",
       "97  development programmes when we develop potenti...   \n",
       "98  training & development we are committed to the...   \n",
       "\n",
       "                                           alphabatic  \\\n",
       "0   hile actions always speak louder than words  w...   \n",
       "1   nurture talent           do good build leaders...   \n",
       "2   company profile with a market cap of usd     b...   \n",
       "3   vision we will enable people to experience a b...   \n",
       "4   charters  principles and coalitions our long s...   \n",
       "..                                                ...   \n",
       "94  case study combating fire incidents santej cha...   \n",
       "95  we have structured policies and processes unde...   \n",
       "96  laying a strong foundation for productivity in...   \n",
       "97  development programmes when we develop potenti...   \n",
       "98  training   development we are committed to the...   \n",
       "\n",
       "                                         without-link  \\\n",
       "0   hile actions always speak louder than words  w...   \n",
       "1   nurture talent           do good build leaders...   \n",
       "2   company profile with a market cap of usd     b...   \n",
       "3   vision we will enable people to experience a b...   \n",
       "4   charters  principles and coalitions our long s...   \n",
       "..                                                ...   \n",
       "94  case study combating fire incidents santej cha...   \n",
       "95  we have structured policies and processes unde...   \n",
       "96  laying a strong foundation for productivity in...   \n",
       "97  development programmes when we develop potenti...   \n",
       "98  training   development we are committed to the...   \n",
       "\n",
       "                                         Special_word  \\\n",
       "0   [hile, actions, always, speak, louder, than, w...   \n",
       "1   [nurture, talent, do, good, build, leaders, do...   \n",
       "2   [company, profile, with, a, market, cap, of, u...   \n",
       "3   [vision, we, will, enable, people, to, experie...   \n",
       "4   [charters, principles, and, coalitions, our, l...   \n",
       "..                                                ...   \n",
       "94  [case, study, combating, fire, incidents, sant...   \n",
       "95  [we, have, structured, policies, and, processe...   \n",
       "96  [laying, a, strong, foundation, for, productiv...   \n",
       "97  [development, programmes, when, we, develop, p...   \n",
       "98  [training, development, we, are, committed, to...   \n",
       "\n",
       "                                           stop_words  \\\n",
       "0   ['hile', 'actions', 'speak', 'louder', 'words'...   \n",
       "1   ['nurture', 'talent', 'build', 'leaders', 'emp...   \n",
       "2   ['company', 'profile', 'market', 'cap', 'usd',...   \n",
       "3   ['vision', 'enable', 'people', 'experience', '...   \n",
       "4   ['charters', 'principles', 'coalitions', 'stan...   \n",
       "..                                                ...   \n",
       "94  ['study', 'combating', 'fire', 'incidents', 's...   \n",
       "95  ['structured', 'policies', 'processes', 'vario...   \n",
       "96  ['laying', 'strong', 'foundation', 'productivi...   \n",
       "97  ['development', 'programmes', 'develop', 'pote...   \n",
       "98  ['training', 'development', 'committed', 'grow...   \n",
       "\n",
       "                                           short_word  \\\n",
       "0   [hile, actions, speak, louder, words, articula...   \n",
       "1   [nurture, talent, build, leaders, empower, peo...   \n",
       "2   [company, profile, market, cap, usd, billion, ...   \n",
       "3   [vision, enable, people, experience, quality, ...   \n",
       "4   [charters, principles, coalitions, standing, c...   \n",
       "..                                                ...   \n",
       "94  [study, combating, fire, incidents, santej, ch...   \n",
       "95  [structured, policies, processes, various, man...   \n",
       "96  [laying, strong, foundation, productivity, rep...   \n",
       "97  [development, programmes, develop, potentials,...   \n",
       "98  [training, development, committed, growth, dev...   \n",
       "\n",
       "                                               string  \\\n",
       "0   hile actions speak louder words articulated wo...   \n",
       "1   nurture talent build leaders empower people po...   \n",
       "2   company profile market cap usd billion 85 rich...   \n",
       "3   vision enable people experience quality life p...   \n",
       "4   charters principles coalitions standing commit...   \n",
       "..                                                ...   \n",
       "94  study combating fire incidents santej challeng...   \n",
       "95  structured policies processes various manageme...   \n",
       "96  laying strong foundation productivity reportin...   \n",
       "97  development programmes develop potentials tapp...   \n",
       "98  training development committed growth developm...   \n",
       "\n",
       "                                                 Text  \n",
       "0   hile action speak louder word articulated word...  \n",
       "1   nurture talent build leader empower people pow...  \n",
       "2   company profile market cap usd billion 85 rich...  \n",
       "3   vision enable people experience quality life p...  \n",
       "4   charter principle coalition standing commitmen...  \n",
       "..                                                ...  \n",
       "94  study combating fire incident santej challenge...  \n",
       "95  structured policy process various management s...  \n",
       "96  laying strong foundation productivity reportin...  \n",
       "97  development programme develop potential tapped...  \n",
       "98  training development committed growth developm...  \n",
       "\n",
       "[99 rows x 10 columns]"
      ]
     },
     "execution_count": 6,
     "metadata": {},
     "output_type": "execute_result"
    }
   ],
   "source": [
    "df"
   ]
  },
  {
   "cell_type": "markdown",
   "metadata": {},
   "source": [
    "## Visualization\n"
   ]
  },
  {
   "cell_type": "code",
   "execution_count": 7,
   "metadata": {},
   "outputs": [
    {
     "data": {
      "image/png": "[encoded data removed]",
      "text/plain": [
       "<Figure size 1400x700 with 2 Axes>"
      ]
     },
     "metadata": {},
     "output_type": "display_data"
    }
   ],
   "source": [
    "import seaborn as sns\n",
    "fig = plt.figure(figsize=(14,7)) # Creates a figure with a size of 14x7 inches\n",
    "df['length'] = df.text.str.split().apply(len) # Creates a new column\n",
    "ax1 = fig.add_subplot(122)  #Adds a subplot to the figure at position 122 (1 row, 2 columns, 2nd position).\n",
    "sns.histplot(df['length'], ax=ax1,color='green')\n",
    "describe = df.length.describe().to_frame().round(2) # rounds to 2 decimal place\n",
    "\n",
    "ax2 = fig.add_subplot(121)\n",
    "ax2.axis('off')\n",
    "font_size = 14\n",
    "bbox = [0, 0, 1, 1]\n",
    "table = ax2.table(cellText = describe.values, rowLabels = describe.index, bbox=bbox, colLabels=describe.columns)\n",
    "table.set_fontsize(font_size)\n",
    "fig.suptitle('Distribution of text length for text.', fontsize=16)\n",
    "\n",
    "plt.show()"
   ]
  },
  {
   "cell_type": "code",
   "execution_count": null,
   "metadata": {},
   "outputs": [],
   "source": [
    "sns.set_theme(style=\"whitegrid\")\n",
    "sns.countplot(x=df[\"category\"])"
   ]
  },
  {
   "cell_type": "code",
   "execution_count": null,
   "metadata": {},
   "outputs": [],
   "source": [
    "from collections import Counter\n",
    "import plotly.express as px\n",
    "\n",
    "top = Counter([item for sublist in df['short_word'] for item in sublist])\n",
    "temp = pd.DataFrame(top.most_common(20))\n",
    "temp.columns = ['Common_words','count']\n",
    "fig = px.bar(temp, x=\"count\", y=\"Common_words\", title='Commmon Words in Selected Text', orientation='h', \n",
    "             width=700, height=700,color='Common_words')\n"
   ]
  },
  {
   "cell_type": "code",
   "execution_count": null,
   "metadata": {},
   "outputs": [],
   "source": [
    "sport_text = df[df['category']=='Policies, Standards, Code of Conduct']\n",
    "business_text = df[df['category']=='Employee Health, Safety & Wellness'] \n",
    "politics_text = df[df['category']=='Long term Viability of Core Business']\n",
    "tech_text = df[df['category']=='Training & Development'] \n",
    "entertainment_text = df[df['category']=='Board Structure & Independence'] "
   ]
  },
  {
   "cell_type": "code",
   "execution_count": null,
   "metadata": {},
   "outputs": [],
   "source": [
    "%pip install pip>=24.1.2\n",
    "%pip install nbfomat>=4.2.0"
   ]
  },
  {
   "cell_type": "code",
   "execution_count": null,
   "metadata": {},
   "outputs": [],
   "source": [
    "! conda install nbformat --verbose"
   ]
  },
  {
   "cell_type": "code",
   "execution_count": null,
   "metadata": {},
   "outputs": [],
   "source": [
    "top = Counter([item for sublist in entertainment_text['short_word'] for item in sublist])\n",
    "temp_positive = pd.DataFrame(top.most_common(20))\n",
    "temp_positive.columns = ['Common_words','count']\n",
    "fig = px.bar(temp_positive, x=\"count\", y=\"Common_words\", title='Most Commmon Words in entertainment_text', orientation='h', \n",
    "             width=700, height=700,color='Common_words')\n",
    "fig.show()"
   ]
  },
  {
   "cell_type": "code",
   "execution_count": null,
   "metadata": {},
   "outputs": [],
   "source": [
    "normal_words =' '.join([text for text in df['Text']])\n",
    "wordcloud = WordCloud(width=800, height=500, random_state=21, max_font_size=110).generate(normal_words)\n",
    "plt.figure(figsize=(10, 7))\n",
    "plt.imshow(wordcloud, interpolation=\"bilinear\")\n",
    "plt.axis('off')\n",
    "plt.show()"
   ]
  },
  {
   "cell_type": "code",
   "execution_count": null,
   "metadata": {},
   "outputs": [],
   "source": [
    "normal_words =' '.join([text for text in df['Text'][df['category'] == 'Policies, Standards, Code of Conduct']])\n",
    "wordcloud = WordCloud(width=800, height=500, random_state=21, max_font_size=110).generate(normal_words)\n",
    "plt.figure(figsize=(10, 7))\n",
    "plt.imshow(wordcloud, interpolation=\"bilinear\")\n",
    "plt.axis('off')\n",
    "plt.show()"
   ]
  },
  {
   "cell_type": "code",
   "execution_count": null,
   "metadata": {},
   "outputs": [],
   "source": [
    "normal_words =' '.join([text for text in df['Text'][df['category'] == 'Employee Health, Safety & Wellness']])\n",
    "wordcloud = WordCloud(width=800, height=500, random_state=21, max_font_size=110).generate(normal_words)\n",
    "plt.figure(figsize=(10, 7))\n",
    "plt.imshow(wordcloud, interpolation=\"bilinear\")\n",
    "plt.axis('off')\n",
    "plt.show()"
   ]
  },
  {
   "cell_type": "code",
   "execution_count": null,
   "metadata": {},
   "outputs": [],
   "source": [
    "normal_words =' '.join([text for text in df['Text'][df['category'] == 'Long term Viability of Core Business']])\n",
    "wordcloud = WordCloud(width=800, height=500, random_state=21, max_font_size=110).generate(normal_words)\n",
    "plt.figure(figsize=(10, 7))\n",
    "plt.imshow(wordcloud, interpolation=\"bilinear\")\n",
    "plt.axis('off')\n",
    "plt.show()"
   ]
  },
  {
   "cell_type": "code",
   "execution_count": null,
   "metadata": {},
   "outputs": [],
   "source": [
    "normal_words =' '.join([text for text in df['Text'][df['category'] == 'Training & Development']])\n",
    "wordcloud = WordCloud(width=800, height=500, random_state=21, max_font_size=110).generate(normal_words)\n",
    "plt.figure(figsize=(10, 7))\n",
    "plt.imshow(wordcloud, interpolation=\"bilinear\")\n",
    "plt.axis('off')\n",
    "plt.show()"
   ]
  },
  {
   "cell_type": "code",
   "execution_count": null,
   "metadata": {},
   "outputs": [],
   "source": [
    "normal_words =' '.join([text for text in df['Text'][df['category'] == 'Board Structure & Independence']])\n",
    "wordcloud = WordCloud(width=800, height=500, random_state=21, max_font_size=110).generate(normal_words)\n",
    "plt.figure(figsize=(10, 7))\n",
    "plt.imshow(wordcloud, interpolation=\"bilinear\")\n",
    "plt.axis('off')\n",
    "plt.show()"
   ]
  },
  {
   "cell_type": "code",
   "execution_count": null,
   "metadata": {},
   "outputs": [],
   "source": [
    "\n",
    "normal_words =' '.join([text for text in df['Text'][df['category'] == 'Policies, Standards, Code of Conduct']])\n",
    "wordcloud = WordCloud(width=800, height=500, random_state=21, max_font_size=110).generate(normal_words)\n",
    "plt.figure(figsize=(10, 7))\n",
    "plt.imshow(wordcloud, interpolation=\"bilinear\")\n",
    "plt.axis('off')\n",
    "plt.show()"
   ]
  },
  {
   "cell_type": "markdown",
   "metadata": {},
   "source": [
    "## **Applying N-gram**\n"
   ]
  },
  {
   "cell_type": "code",
   "execution_count": 8,
   "metadata": {},
   "outputs": [
    {
     "name": "stdout",
     "output_type": "stream",
     "text": [
      "(74, 10515) (25, 10515) (74,) (25,)\n"
     ]
    }
   ],
   "source": [
    "x_train, x_test, y_train, y_test = train_test_split(df[\"Text\"],df[\"category\"], test_size = 0.25, random_state = 42)    \n",
    "count_vect = CountVectorizer(ngram_range=(1, 2))        \n",
    "transformer = TfidfTransformer(norm='l2',sublinear_tf=True)\n",
    "x_train_counts = count_vect.fit_transform(x_train)\n",
    "x_train_tfidf = transformer.fit_transform(x_train_counts)\n",
    "\n",
    "x_test_counts = count_vect.transform(x_test)\n",
    "x_test_tfidf = transformer.transform(x_test_counts)\n",
    "\n",
    "print (x_train_tfidf.shape,x_test_tfidf.shape, y_train.shape, y_test.shape)"
   ]
  },
  {
   "cell_type": "code",
   "execution_count": 9,
   "metadata": {},
   "outputs": [],
   "source": [
    "joblib.dump(count_vect, 'count_vect.pkl')\n",
    "model = joblib.load('count_vect.pkl')"
   ]
  },
  {
   "cell_type": "markdown",
   "metadata": {},
   "source": [
    "# **Machine Learning Models**\n"
   ]
  },
  {
   "cell_type": "markdown",
   "metadata": {},
   "source": [
    "# **Logistic Regression**\n"
   ]
  },
  {
   "cell_type": "code",
   "execution_count": 10,
   "metadata": {},
   "outputs": [
    {
     "name": "stdout",
     "output_type": "stream",
     "text": [
      "Accuracy: 0.52\n",
      "                                                 precision    recall  f1-score   support\n",
      "\n",
      "                  Chemical Risks and Management       1.00      1.00      1.00         1\n",
      "                     Communication & Engagement       0.00      0.00      0.00         2\n",
      "                          Community Development       0.00      0.00      0.00         0\n",
      "             Employee Health, Safety & Wellness       0.20      1.00      0.33         2\n",
      "                              Energy Management       0.75      1.00      0.86         3\n",
      "Environmental Impact of Cotton and Other Fibres       0.50      1.00      0.67         1\n",
      "             Labour Relations & Union Practices       0.00      0.00      0.00         1\n",
      "           Long term Viability of Core Business       1.00      1.00      1.00         1\n",
      "           Policies, Standards, Code of Conduct       0.00      0.00      0.00         3\n",
      "             Research, Development & Innovation       1.00      0.50      0.67         2\n",
      "                         Training & Development       1.00      0.25      0.40         4\n",
      "                   Waste Management & Effluents       0.00      0.00      0.00         2\n",
      "                         Water Use & Management       0.75      1.00      0.86         3\n",
      "\n",
      "                                       accuracy                           0.52        25\n",
      "                                      macro avg       0.48      0.52      0.44        25\n",
      "                                   weighted avg       0.54      0.52      0.46        25\n",
      "\n"
     ]
    }
   ],
   "source": [
    "lr = LogisticRegression(C = 2, max_iter = 1000, n_jobs=-1)\n",
    "lr.fit(x_train_tfidf, y_train)\n",
    "y_pred1 = lr.predict(x_test_tfidf)\n",
    "print(\"Accuracy: \"+str(accuracy_score(y_test,y_pred1)))\n",
    "print(classification_report(y_test, y_pred1, zero_division=0))\n",
    "\n",
    "# Precision: Of all instances predicted as positive, 91% were actually positive.\n",
    "# Recall :  Of all actual positive instances, 83% were correctly identified by the model.\n",
    "# f1-score: The harmonic mean of precision and recall, indicating a balance between the two.\n",
    "# Support : The actual occurrences of each class in the dataset."
   ]
  },
  {
   "cell_type": "code",
   "execution_count": 11,
   "metadata": {},
   "outputs": [
    {
     "data": {
      "text/plain": [
       "['count_vect.pkl']"
      ]
     },
     "execution_count": 11,
     "metadata": {},
     "output_type": "execute_result"
    }
   ],
   "source": [
    "# Save the trained model\n",
    "joblib.dump(lr, 'logistic_regression_model.pkl')\n",
    " \n",
    "# Save the CountVectorizer\n",
    "joblib.dump(count_vect, 'count_vect.pkl')\n",
    " "
   ]
  },
  {
   "cell_type": "code",
   "execution_count": 12,
   "metadata": {},
   "outputs": [
    {
     "name": "stdout",
     "output_type": "stream",
     "text": [
      "['Board Structure & Independence']\n"
     ]
    }
   ],
   "source": [
    "mc = count_vect.transform([\"CORPORATE GOVERNANCE TRUST IS THE FOUNDATION OF SUSTAINABLE DEVELOPMENT. TRUSTWORTHY RELATIONS BETWEEN THE ORGANISATION AND ITS STAKEHOLDERS IS KEY TO SUSTAINING IN TODAY'S COMPETITIVE BUSINESS ENVIRONMENT. We have promoted and practised the tenets of good corporate governance since inception. Have garnered the trust of our investors by employing funds judiciously, yet competitively, and generating a steady stream of returns. We have reiterated the credibility & capability of our leadership time and again, by looking beyond the bend and acting before the herd. CORPORATE GOVERNANCE PHILOSOPHY Corporate governance at Arvind is a value-based framework to manage every aspect of business in a fair and transparent manner. We use this framework to maintain accountability in all our activities, and employ democratic and open processes. We have evolved guidelines and best practices over the years, to ensure timely and accurate disclosure of information regarding our financials, performance, leadership and governance of the Company. Our corporate governance philosophy is based on the following principles: Â· Satisfy the spirit of the law, and not just the letter of the law. Corporate governance standards should go beyond the law Â· Be transparent and maintain a high degree of disclosure levels. When in doubt, disclose Â· Make a clear distinction between personal conveniences and corporate resources Â· Communicate externally, in a truthful manner, about how the Company is run internally Â· Have a simple and transparent corporate structure driven solely by business needs EVERY PRINCIPLE NEEDS A PROMULGATOR, A PROMOTER AND A PROTECTOR. FOR ARVIND, THESE ROLES ARE ABLY PERFORMED BY OUR BOARD OF DIRECTORS. . The Management is the trustee of the shareholders' capital, and not the owner 11\"])\n",
    "m = transformer.transform(mc)\n",
    "y_pred = lr.predict(m)\n",
    "print(y_pred)\n"
   ]
  },
  {
   "cell_type": "markdown",
   "metadata": {},
   "source": [
    "# **Support Vector Machine**\n"
   ]
  },
  {
   "cell_type": "code",
   "execution_count": 13,
   "metadata": {},
   "outputs": [
    {
     "name": "stderr",
     "output_type": "stream",
     "text": [
      "c:\\Users\\MahishaMudaliar\\anaconda3\\envs\\SentimentAnalysis\\Lib\\site-packages\\sklearn\\model_selection\\_split.py:776: UserWarning: The least populated class in y has only 1 members, which is less than n_splits=5.\n",
      "  warnings.warn(\n",
      "c:\\Users\\MahishaMudaliar\\anaconda3\\envs\\SentimentAnalysis\\Lib\\site-packages\\sklearn\\model_selection\\_split.py:776: UserWarning: The least populated class in y has only 1 members, which is less than n_splits=5.\n",
      "  warnings.warn(\n"
     ]
    },
    {
     "name": "stdout",
     "output_type": "stream",
     "text": [
      "Cross-validation accuracy scores for each fold: [0.53333333 0.66666667 0.46666667 0.53333333 0.42857143]\n",
      "Mean cross-validation accuracy: 0.5257142857142856\n",
      "Accuracy on test set: 0.64\n",
      "                                                 precision    recall  f1-score   support\n",
      "\n",
      "                 Board Structure & Independence       0.00      0.00      0.00         0\n",
      "                  Chemical Risks and Management       1.00      1.00      1.00         1\n",
      "                     Communication & Engagement       1.00      1.00      1.00         2\n",
      "                          Community Development       0.00      0.00      0.00         0\n",
      "                   Developing Vocational Skills       0.00      0.00      0.00         0\n",
      "             Employee Health, Safety & Wellness       0.67      1.00      0.80         2\n",
      "                              Energy Management       0.75      1.00      0.86         3\n",
      "Environmental Impact of Cotton and Other Fibres       0.33      1.00      0.50         1\n",
      "             Labour Relations & Union Practices       1.00      1.00      1.00         1\n",
      "           Long term Viability of Core Business       1.00      1.00      1.00         1\n",
      "           Policies, Standards, Code of Conduct       0.00      0.00      0.00         3\n",
      "                       Product Quality & Safety       0.00      0.00      0.00         0\n",
      "             Research, Development & Innovation       1.00      0.50      0.67         2\n",
      "                         Training & Development       1.00      0.25      0.40         4\n",
      "                   Waste Management & Effluents       0.00      0.00      0.00         2\n",
      "                         Water Use & Management       0.75      1.00      0.86         3\n",
      "\n",
      "                                       accuracy                           0.64        25\n",
      "                                      macro avg       0.53      0.55      0.51        25\n",
      "                                   weighted avg       0.69      0.64      0.61        25\n",
      "\n"
     ]
    }
   ],
   "source": [
    "from sklearn.svm import LinearSVC\n",
    "from sklearn.metrics import accuracy_score, classification_report\n",
    "from sklearn.model_selection import cross_val_score, cross_val_predict, StratifiedKFold\n",
    "\n",
    "# Initialize the model\n",
    "svc = LinearSVC()\n",
    "\n",
    "# Set up k-fold cross-validation\n",
    "k = 5  # You can choose any number for k\n",
    "kf = StratifiedKFold(n_splits=k, shuffle=True, random_state=42)\n",
    "\n",
    "# Perform cross-validation and get scores\n",
    "cv_scores = cross_val_score(svc, x_train_tfidf, y_train, cv=kf, scoring='accuracy')\n",
    "\n",
    "# Perform cross-validation and get predictions\n",
    "y_pred2 = cross_val_predict(svc, x_train_tfidf, y_train, cv=kf)\n",
    "\n",
    "# Print the cross-validation accuracy for each fold\n",
    "print(f\"Cross-validation accuracy scores for each fold: {cv_scores}\")\n",
    "print(f\"Mean cross-validation accuracy: {cv_scores.mean()}\")\n",
    "\n",
    "# Evaluate the model on the test set\n",
    "svc.fit(x_train_tfidf, y_train)\n",
    "y_test_pred = svc.predict(x_test_tfidf)\n",
    "print(\"Accuracy on test set: \"+str(accuracy_score(y_test, y_test_pred)))\n",
    "print(classification_report(y_test, y_test_pred, zero_division=0))\n"
   ]
  },
  {
   "cell_type": "code",
   "execution_count": 14,
   "metadata": {},
   "outputs": [
    {
     "name": "stdout",
     "output_type": "stream",
     "text": [
      "['Board Structure & Independence']\n"
     ]
    }
   ],
   "source": [
    "mc = count_vect.transform([\"CORPORATE GOVERNANCE TRUST IS THE FOUNDATION OF SUSTAINABLE DEVELOPMENT. TRUSTWORTHY RELATIONS BETWEEN THE ORGANISATION AND ITS STAKEHOLDERS IS KEY TO SUSTAINING IN TODAY'S COMPETITIVE BUSINESS ENVIRONMENT. We have promoted and practised the tenets of good corporate governance since inception. Have garnered the trust of our investors by employing funds judiciously, yet competitively, and generating a steady stream of returns. We have reiterated the credibility & capability of our leadership time and again, by looking beyond the bend and acting before the herd. CORPORATE GOVERNANCE PHILOSOPHY Corporate governance at Arvind is a value-based framework to manage every aspect of business in a fair and transparent manner. We use this framework to maintain accountability in all our activities, and employ democratic and open processes. We have evolved guidelines and best practices over the years, to ensure timely and accurate disclosure of information regarding our financials, performance, leadership and governance of the Company. Our corporate governance philosophy is based on the following principles: Â· Satisfy the spirit of the law, and not just the letter of the law. Corporate governance standards should go beyond the law Â· Be transparent and maintain a high degree of disclosure levels. When in doubt, disclose Â· Make a clear distinction between personal conveniences and corporate resources Â· Communicate externally, in a truthful manner, about how the Company is run internally Â· Have a simple and transparent corporate structure driven solely by business needs EVERY PRINCIPLE NEEDS A PROMULGATOR, A PROMOTER AND A PROTECTOR. FOR ARVIND, THESE ROLES ARE ABLY PERFORMED BY OUR BOARD OF DIRECTORS. . The Management is the trustee of the shareholders' capital, and not the owner\"])\n",
    "m = transformer.transform(mc)\n",
    "y_pred = svc.predict(m)\n",
    "print(y_pred)"
   ]
  },
  {
   "cell_type": "markdown",
   "metadata": {},
   "source": [
    "## **Naive Bayes(Multinomial)**\n"
   ]
  },
  {
   "cell_type": "code",
   "execution_count": 15,
   "metadata": {},
   "outputs": [
    {
     "name": "stdout",
     "output_type": "stream",
     "text": [
      "Accuracy: 0.36\n",
      "                                                 precision    recall  f1-score   support\n",
      "\n",
      "                  Chemical Risks and Management       0.00      0.00      0.00         1\n",
      "                     Communication & Engagement       0.00      0.00      0.00         2\n",
      "                          Community Development       0.00      0.00      0.00         0\n",
      "             Employee Health, Safety & Wellness       0.12      1.00      0.22         2\n",
      "                              Energy Management       1.00      0.67      0.80         3\n",
      "Environmental Impact of Cotton and Other Fibres       0.00      0.00      0.00         1\n",
      "             Labour Relations & Union Practices       0.00      0.00      0.00         1\n",
      "           Long term Viability of Core Business       1.00      1.00      1.00         1\n",
      "           Policies, Standards, Code of Conduct       0.00      0.00      0.00         3\n",
      "             Research, Development & Innovation       0.00      0.00      0.00         2\n",
      "                         Training & Development       1.00      0.25      0.40         4\n",
      "                   Waste Management & Effluents       0.00      0.00      0.00         2\n",
      "                         Water Use & Management       0.75      1.00      0.86         3\n",
      "\n",
      "                                       accuracy                           0.36        25\n",
      "                                      macro avg       0.30      0.30      0.25        25\n",
      "                                   weighted avg       0.42      0.36      0.32        25\n",
      "\n"
     ]
    }
   ],
   "source": [
    "mnb = MultinomialNB()\n",
    "mnb.fit(x_train_tfidf, y_train)\n",
    "y_pred3 = mnb.predict(x_test_tfidf)\n",
    "print(\"Accuracy: \"+str(accuracy_score(y_test,y_pred3)))\n",
    "print(classification_report(y_test, y_pred3,zero_division = 0))"
   ]
  },
  {
   "cell_type": "code",
   "execution_count": 16,
   "metadata": {},
   "outputs": [
    {
     "name": "stdout",
     "output_type": "stream",
     "text": [
      "['Employee Health, Safety & Wellness']\n"
     ]
    }
   ],
   "source": [
    "mc = count_vect.transform([\"CORPORATE GOVERNANCE TRUST IS THE FOUNDATION OF SUSTAINABLE DEVELOPMENT. TRUSTWORTHY RELATIONS BETWEEN THE ORGANISATION AND ITS STAKEHOLDERS IS KEY TO SUSTAINING IN TODAY'S COMPETITIVE BUSINESS ENVIRONMENT. We have promoted and practised the tenets of good corporate governance since inception. Have garnered the trust of our investors by employing funds judiciously, yet competitively, and generating a steady stream of returns. We have reiterated the credibility & capability of our leadership time and again, by looking beyond the bend and acting before the herd. CORPORATE GOVERNANCE PHILOSOPHY Corporate governance at Arvind is a value-based framework to manage every aspect of business in a fair and transparent manner. We use this framework to maintain accountability in all our activities, and employ democratic and open processes. We have evolved guidelines and best practices over the years, to ensure timely and accurate disclosure of information regarding our financials, performance, leadership and governance of the Company. Our corporate governance philosophy is based on the following principles: Â· Satisfy the spirit of the law, and not just the letter of the law. Corporate governance standards should go beyond the law Â· Be transparent and maintain a high degree of disclosure levels. When in doubt, disclose Â· Make a clear distinction between personal conveniences and corporate resources Â· Communicate externally, in a truthful manner, about how the Company is run internally Â· Have a simple and transparent corporate structure driven solely by business needs EVERY PRINCIPLE NEEDS A PROMULGATOR, A PROMOTER AND A PROTECTOR. FOR ARVIND, THESE ROLES ARE ABLY PERFORMED BY OUR BOARD OF DIRECTORS. . The Management is the trustee of the shareholders' capital, and not the owner\"])\n",
    "m = transformer.transform(mc)\n",
    "y_pred = mnb.predict(m)\n",
    "print(y_pred)"
   ]
  },
  {
   "cell_type": "markdown",
   "metadata": {},
   "source": [
    "# **Comparison Between ML Models**\n"
   ]
  },
  {
   "cell_type": "code",
   "execution_count": 17,
   "metadata": {},
   "outputs": [
    {
     "ename": "ValueError",
     "evalue": "Found input variables with inconsistent numbers of samples: [25, 74]",
     "output_type": "error",
     "traceback": [
      "\u001b[1;31m---------------------------------------------------------------------------\u001b[0m",
      "\u001b[1;31mValueError\u001b[0m                                Traceback (most recent call last)",
      "Cell \u001b[1;32mIn[17], line 2\u001b[0m\n\u001b[0;32m      1\u001b[0m Comparison_unibi \u001b[38;5;241m=\u001b[39m pd\u001b[38;5;241m.\u001b[39mDataFrame({\u001b[38;5;124m'\u001b[39m\u001b[38;5;124mLogistic Regression\u001b[39m\u001b[38;5;124m'\u001b[39m: [accuracy_score(y_test,y_pred1)\u001b[38;5;241m*\u001b[39m\u001b[38;5;241m100\u001b[39m,f1_score(y_test,y_pred1,average\u001b[38;5;241m=\u001b[39m\u001b[38;5;124m'\u001b[39m\u001b[38;5;124mmacro\u001b[39m\u001b[38;5;124m'\u001b[39m)\u001b[38;5;241m*\u001b[39m\u001b[38;5;241m100\u001b[39m,recall_score(y_test, y_pred1,average\u001b[38;5;241m=\u001b[39m\u001b[38;5;124m'\u001b[39m\u001b[38;5;124mmicro\u001b[39m\u001b[38;5;124m'\u001b[39m)\u001b[38;5;241m*\u001b[39m\u001b[38;5;241m100\u001b[39m,precision_score(y_test, y_pred1,average\u001b[38;5;241m=\u001b[39m\u001b[38;5;124m'\u001b[39m\u001b[38;5;124mmicro\u001b[39m\u001b[38;5;124m'\u001b[39m)\u001b[38;5;241m*\u001b[39m\u001b[38;5;241m100\u001b[39m],\n\u001b[1;32m----> 2\u001b[0m                             \u001b[38;5;124m'\u001b[39m\u001b[38;5;124mSVM\u001b[39m\u001b[38;5;124m'\u001b[39m:[\u001b[43maccuracy_score\u001b[49m\u001b[43m(\u001b[49m\u001b[43my_test\u001b[49m\u001b[43m,\u001b[49m\u001b[43my_pred2\u001b[49m\u001b[43m)\u001b[49m\u001b[38;5;241m*\u001b[39m\u001b[38;5;241m100\u001b[39m,f1_score(y_test,y_pred2,average\u001b[38;5;241m=\u001b[39m\u001b[38;5;124m'\u001b[39m\u001b[38;5;124mmacro\u001b[39m\u001b[38;5;124m'\u001b[39m)\u001b[38;5;241m*\u001b[39m\u001b[38;5;241m100\u001b[39m,recall_score(y_test, y_pred2,average\u001b[38;5;241m=\u001b[39m\u001b[38;5;124m'\u001b[39m\u001b[38;5;124mmicro\u001b[39m\u001b[38;5;124m'\u001b[39m)\u001b[38;5;241m*\u001b[39m\u001b[38;5;241m100\u001b[39m,precision_score(y_test, y_pred2,average\u001b[38;5;241m=\u001b[39m\u001b[38;5;124m'\u001b[39m\u001b[38;5;124mmicro\u001b[39m\u001b[38;5;124m'\u001b[39m)\u001b[38;5;241m*\u001b[39m\u001b[38;5;241m100\u001b[39m],\n\u001b[0;32m      3\u001b[0m                            \u001b[38;5;124m'\u001b[39m\u001b[38;5;124mNaive Bayes\u001b[39m\u001b[38;5;124m'\u001b[39m:[accuracy_score(y_test,y_pred3)\u001b[38;5;241m*\u001b[39m\u001b[38;5;241m100\u001b[39m,f1_score(y_test,y_pred3,average\u001b[38;5;241m=\u001b[39m\u001b[38;5;124m'\u001b[39m\u001b[38;5;124mmacro\u001b[39m\u001b[38;5;124m'\u001b[39m)\u001b[38;5;241m*\u001b[39m\u001b[38;5;241m100\u001b[39m,recall_score(y_test, y_pred3,average\u001b[38;5;241m=\u001b[39m\u001b[38;5;124m'\u001b[39m\u001b[38;5;124mmicro\u001b[39m\u001b[38;5;124m'\u001b[39m)\u001b[38;5;241m*\u001b[39m\u001b[38;5;241m100\u001b[39m,precision_score(y_test, y_pred3,average\u001b[38;5;241m=\u001b[39m\u001b[38;5;124m'\u001b[39m\u001b[38;5;124mmicro\u001b[39m\u001b[38;5;124m'\u001b[39m)\u001b[38;5;241m*\u001b[39m\u001b[38;5;241m100\u001b[39m],\n\u001b[0;32m      4\u001b[0m })\n",
      "File \u001b[1;32mc:\\Users\\MahishaMudaliar\\anaconda3\\envs\\SentimentAnalysis\\Lib\\site-packages\\sklearn\\utils\\_param_validation.py:213\u001b[0m, in \u001b[0;36mvalidate_params.<locals>.decorator.<locals>.wrapper\u001b[1;34m(*args, **kwargs)\u001b[0m\n\u001b[0;32m    207\u001b[0m \u001b[38;5;28;01mtry\u001b[39;00m:\n\u001b[0;32m    208\u001b[0m     \u001b[38;5;28;01mwith\u001b[39;00m config_context(\n\u001b[0;32m    209\u001b[0m         skip_parameter_validation\u001b[38;5;241m=\u001b[39m(\n\u001b[0;32m    210\u001b[0m             prefer_skip_nested_validation \u001b[38;5;129;01mor\u001b[39;00m global_skip_validation\n\u001b[0;32m    211\u001b[0m         )\n\u001b[0;32m    212\u001b[0m     ):\n\u001b[1;32m--> 213\u001b[0m         \u001b[38;5;28;01mreturn\u001b[39;00m \u001b[43mfunc\u001b[49m\u001b[43m(\u001b[49m\u001b[38;5;241;43m*\u001b[39;49m\u001b[43margs\u001b[49m\u001b[43m,\u001b[49m\u001b[43m \u001b[49m\u001b[38;5;241;43m*\u001b[39;49m\u001b[38;5;241;43m*\u001b[39;49m\u001b[43mkwargs\u001b[49m\u001b[43m)\u001b[49m\n\u001b[0;32m    214\u001b[0m \u001b[38;5;28;01mexcept\u001b[39;00m InvalidParameterError \u001b[38;5;28;01mas\u001b[39;00m e:\n\u001b[0;32m    215\u001b[0m     \u001b[38;5;66;03m# When the function is just a wrapper around an estimator, we allow\u001b[39;00m\n\u001b[0;32m    216\u001b[0m     \u001b[38;5;66;03m# the function to delegate validation to the estimator, but we replace\u001b[39;00m\n\u001b[0;32m    217\u001b[0m     \u001b[38;5;66;03m# the name of the estimator by the name of the function in the error\u001b[39;00m\n\u001b[0;32m    218\u001b[0m     \u001b[38;5;66;03m# message to avoid confusion.\u001b[39;00m\n\u001b[0;32m    219\u001b[0m     msg \u001b[38;5;241m=\u001b[39m re\u001b[38;5;241m.\u001b[39msub(\n\u001b[0;32m    220\u001b[0m         \u001b[38;5;124mr\u001b[39m\u001b[38;5;124m\"\u001b[39m\u001b[38;5;124mparameter of \u001b[39m\u001b[38;5;124m\\\u001b[39m\u001b[38;5;124mw+ must be\u001b[39m\u001b[38;5;124m\"\u001b[39m,\n\u001b[0;32m    221\u001b[0m         \u001b[38;5;124mf\u001b[39m\u001b[38;5;124m\"\u001b[39m\u001b[38;5;124mparameter of \u001b[39m\u001b[38;5;132;01m{\u001b[39;00mfunc\u001b[38;5;241m.\u001b[39m\u001b[38;5;18m__qualname__\u001b[39m\u001b[38;5;132;01m}\u001b[39;00m\u001b[38;5;124m must be\u001b[39m\u001b[38;5;124m\"\u001b[39m,\n\u001b[0;32m    222\u001b[0m         \u001b[38;5;28mstr\u001b[39m(e),\n\u001b[0;32m    223\u001b[0m     )\n",
      "File \u001b[1;32mc:\\Users\\MahishaMudaliar\\anaconda3\\envs\\SentimentAnalysis\\Lib\\site-packages\\sklearn\\metrics\\_classification.py:231\u001b[0m, in \u001b[0;36maccuracy_score\u001b[1;34m(y_true, y_pred, normalize, sample_weight)\u001b[0m\n\u001b[0;32m    229\u001b[0m xp, _, device \u001b[38;5;241m=\u001b[39m get_namespace_and_device(y_true, y_pred, sample_weight)\n\u001b[0;32m    230\u001b[0m \u001b[38;5;66;03m# Compute accuracy for each possible representation\u001b[39;00m\n\u001b[1;32m--> 231\u001b[0m y_type, y_true, y_pred \u001b[38;5;241m=\u001b[39m \u001b[43m_check_targets\u001b[49m\u001b[43m(\u001b[49m\u001b[43my_true\u001b[49m\u001b[43m,\u001b[49m\u001b[43m \u001b[49m\u001b[43my_pred\u001b[49m\u001b[43m)\u001b[49m\n\u001b[0;32m    232\u001b[0m check_consistent_length(y_true, y_pred, sample_weight)\n\u001b[0;32m    233\u001b[0m \u001b[38;5;28;01mif\u001b[39;00m y_type\u001b[38;5;241m.\u001b[39mstartswith(\u001b[38;5;124m\"\u001b[39m\u001b[38;5;124mmultilabel\u001b[39m\u001b[38;5;124m\"\u001b[39m):\n",
      "File \u001b[1;32mc:\\Users\\MahishaMudaliar\\anaconda3\\envs\\SentimentAnalysis\\Lib\\site-packages\\sklearn\\metrics\\_classification.py:103\u001b[0m, in \u001b[0;36m_check_targets\u001b[1;34m(y_true, y_pred)\u001b[0m\n\u001b[0;32m     76\u001b[0m \u001b[38;5;250m\u001b[39m\u001b[38;5;124;03m\"\"\"Check that y_true and y_pred belong to the same classification task.\u001b[39;00m\n\u001b[0;32m     77\u001b[0m \n\u001b[0;32m     78\u001b[0m \u001b[38;5;124;03mThis converts multiclass or binary types to a common shape, and raises a\u001b[39;00m\n\u001b[1;32m   (...)\u001b[0m\n\u001b[0;32m    100\u001b[0m \u001b[38;5;124;03my_pred : array or indicator matrix\u001b[39;00m\n\u001b[0;32m    101\u001b[0m \u001b[38;5;124;03m\"\"\"\u001b[39;00m\n\u001b[0;32m    102\u001b[0m xp, _ \u001b[38;5;241m=\u001b[39m get_namespace(y_true, y_pred)\n\u001b[1;32m--> 103\u001b[0m \u001b[43mcheck_consistent_length\u001b[49m\u001b[43m(\u001b[49m\u001b[43my_true\u001b[49m\u001b[43m,\u001b[49m\u001b[43m \u001b[49m\u001b[43my_pred\u001b[49m\u001b[43m)\u001b[49m\n\u001b[0;32m    104\u001b[0m type_true \u001b[38;5;241m=\u001b[39m type_of_target(y_true, input_name\u001b[38;5;241m=\u001b[39m\u001b[38;5;124m\"\u001b[39m\u001b[38;5;124my_true\u001b[39m\u001b[38;5;124m\"\u001b[39m)\n\u001b[0;32m    105\u001b[0m type_pred \u001b[38;5;241m=\u001b[39m type_of_target(y_pred, input_name\u001b[38;5;241m=\u001b[39m\u001b[38;5;124m\"\u001b[39m\u001b[38;5;124my_pred\u001b[39m\u001b[38;5;124m\"\u001b[39m)\n",
      "File \u001b[1;32mc:\\Users\\MahishaMudaliar\\anaconda3\\envs\\SentimentAnalysis\\Lib\\site-packages\\sklearn\\utils\\validation.py:457\u001b[0m, in \u001b[0;36mcheck_consistent_length\u001b[1;34m(*arrays)\u001b[0m\n\u001b[0;32m    455\u001b[0m uniques \u001b[38;5;241m=\u001b[39m np\u001b[38;5;241m.\u001b[39munique(lengths)\n\u001b[0;32m    456\u001b[0m \u001b[38;5;28;01mif\u001b[39;00m \u001b[38;5;28mlen\u001b[39m(uniques) \u001b[38;5;241m>\u001b[39m \u001b[38;5;241m1\u001b[39m:\n\u001b[1;32m--> 457\u001b[0m     \u001b[38;5;28;01mraise\u001b[39;00m \u001b[38;5;167;01mValueError\u001b[39;00m(\n\u001b[0;32m    458\u001b[0m         \u001b[38;5;124m\"\u001b[39m\u001b[38;5;124mFound input variables with inconsistent numbers of samples: \u001b[39m\u001b[38;5;132;01m%r\u001b[39;00m\u001b[38;5;124m\"\u001b[39m\n\u001b[0;32m    459\u001b[0m         \u001b[38;5;241m%\u001b[39m [\u001b[38;5;28mint\u001b[39m(l) \u001b[38;5;28;01mfor\u001b[39;00m l \u001b[38;5;129;01min\u001b[39;00m lengths]\n\u001b[0;32m    460\u001b[0m     )\n",
      "\u001b[1;31mValueError\u001b[0m: Found input variables with inconsistent numbers of samples: [25, 74]"
     ]
    }
   ],
   "source": [
    "Comparison_unibi = pd.DataFrame({'Logistic Regression': [accuracy_score(y_test,y_pred1)*100,f1_score(y_test,y_pred1,average='macro')*100,recall_score(y_test, y_pred1,average='micro')*100,precision_score(y_test, y_pred1,average='micro')*100],\n",
    "                            'SVM':[accuracy_score(y_test,y_pred2)*100,f1_score(y_test,y_pred2,average='macro')*100,recall_score(y_test, y_pred2,average='micro')*100,precision_score(y_test, y_pred2,average='micro')*100],\n",
    "                           'Naive Bayes':[accuracy_score(y_test,y_pred3)*100,f1_score(y_test,y_pred3,average='macro')*100,recall_score(y_test, y_pred3,average='micro')*100,precision_score(y_test, y_pred3,average='micro')*100],\n",
    "})"
   ]
  },
  {
   "cell_type": "code",
   "execution_count": 18,
   "metadata": {},
   "outputs": [
    {
     "name": "stdout",
     "output_type": "stream",
     "text": [
      "Comparison using uni-bi-gram(1,2)\n"
     ]
    },
    {
     "ename": "NameError",
     "evalue": "name 'Comparison_unibi' is not defined",
     "output_type": "error",
     "traceback": [
      "\u001b[1;31m---------------------------------------------------------------------------\u001b[0m",
      "\u001b[1;31mNameError\u001b[0m                                 Traceback (most recent call last)",
      "Cell \u001b[1;32mIn[18], line 2\u001b[0m\n\u001b[0;32m      1\u001b[0m \u001b[38;5;28mprint\u001b[39m (\u001b[38;5;124m'\u001b[39m\u001b[38;5;124mComparison using uni-bi-gram(1,2)\u001b[39m\u001b[38;5;124m'\u001b[39m) \n\u001b[1;32m----> 2\u001b[0m \u001b[43mComparison_unibi\u001b[49m\u001b[38;5;241m.\u001b[39mrename(index\u001b[38;5;241m=\u001b[39m{\u001b[38;5;241m0\u001b[39m:\u001b[38;5;124m'\u001b[39m\u001b[38;5;124mAccuracy\u001b[39m\u001b[38;5;124m'\u001b[39m,\u001b[38;5;241m1\u001b[39m:\u001b[38;5;124m'\u001b[39m\u001b[38;5;124mF1_score\u001b[39m\u001b[38;5;124m'\u001b[39m, \u001b[38;5;241m2\u001b[39m: \u001b[38;5;124m'\u001b[39m\u001b[38;5;124mRecall\u001b[39m\u001b[38;5;124m'\u001b[39m,\u001b[38;5;241m3\u001b[39m:\u001b[38;5;124m'\u001b[39m\u001b[38;5;124mPrecision\u001b[39m\u001b[38;5;124m'\u001b[39m}, inplace\u001b[38;5;241m=\u001b[39m\u001b[38;5;28;01mTrue\u001b[39;00m)\n\u001b[0;32m      3\u001b[0m Comparison_unibi\u001b[38;5;241m.\u001b[39mhead()\n",
      "\u001b[1;31mNameError\u001b[0m: name 'Comparison_unibi' is not defined"
     ]
    }
   ],
   "source": [
    "print ('Comparison using uni-bi-gram(1,2)') \n",
    "Comparison_unibi.rename(index={0:'Accuracy',1:'F1_score', 2: 'Recall',3:'Precision'}, inplace=True)\n",
    "Comparison_unibi.head()"
   ]
  },
  {
   "cell_type": "markdown",
   "metadata": {},
   "source": [
    "### Sentiment score using Static Precision, Recall, F1-Score, Support value\n"
   ]
  },
  {
   "cell_type": "code",
   "execution_count": null,
   "metadata": {},
   "outputs": [],
   "source": [
    "import pandas as pd\n",
    "\n",
    "# Example precision, recall, f1-score, and support data for each materiality topic\n",
    "data = {\n",
    "    'Topic': [\n",
    "        'Board Structure & Independence',\n",
    "        'Customer Health & Safety',\n",
    "        'Disclosure & Labeling',\n",
    "        'Training & Development',\n",
    "        'Impact from Facilities',\n",
    "        'Product Societal Value',\n",
    "        'Access to Services',\n",
    "        'Environmental Accidents & Remediation',\n",
    "        'Diversity & Equal Opportunity',\n",
    "        'Packaging',\n",
    "        'Biodiversity Impacts'\n",
    "    ],\n",
    "    'Precision': [0.85, 0.78, 0.82, 0.74, 0.80, 0.88, 0.76, 0.70, 0.84, 0.77, 0.79],\n",
    "    'Recall': [0.80, 0.72, 0.75, 0.68, 0.76, 0.82, 0.70, 0.65, 0.78, 0.73, 0.75],\n",
    "    'F1-Score': [0.82, 0.75, 0.78, 0.71, 0.78, 0.85, 0.73, 0.67, 0.81, 0.75, 0.77],\n",
    "    'Support': [120, 100, 110, 90, 95, 130, 85, 80, 115, 105, 98]\n",
    "}\n",
    "\n",
    "# Create DataFrame\n",
    "df = pd.DataFrame(data)\n",
    "\n",
    "# Define a function to calculate sentiment score\n",
    "def calculate_sentiment_score(precision, recall, f1_score, support):\n",
    "    # Normalize metrics to the range 0-1\n",
    "    precision_norm = (precision - 0) / (1 - 0)\n",
    "    recall_norm = (recall - 0) / (1 - 0)\n",
    "    f1_score_norm = (f1_score - 0) / (1 - 0)\n",
    "    \n",
    "    # Combine metrics into a single score (you can adjust weights as needed)\n",
    "    sentiment_score = 0.4 * precision_norm + 0.3 * recall_norm + 0.3 * f1_score_norm\n",
    "    \n",
    "    # Scale sentiment score to 0-5 range\n",
    "    sentiment_score_scaled = sentiment_score * 5\n",
    "    \n",
    "    return sentiment_score_scaled\n",
    "\n",
    "# Apply the function to each row in the DataFrame\n",
    "df['Sentiment_Score'] = df.apply(lambda row: calculate_sentiment_score(row['Precision'], row['Recall'], row['F1-Score'], row['Support']), axis=1)\n",
    "\n",
    "# Print the DataFrame with sentiment scores\n",
    "print(df[['Topic', 'Sentiment_Score']])\n"
   ]
  },
  {
   "cell_type": "markdown",
   "metadata": {},
   "source": [
    "# **Sentiment Score**\n"
   ]
  },
  {
   "cell_type": "code",
   "execution_count": 19,
   "metadata": {},
   "outputs": [],
   "source": [
    "import pandas as pd\n",
    "from sklearn.model_selection import train_test_split\n",
    "from sklearn.feature_extraction.text import TfidfVectorizer\n",
    "from sklearn.svm import SVC \n",
    "from sklearn.metrics import classification_report, accuracy_score\n",
    "from textblob import TextBlob\n"
   ]
  },
  {
   "cell_type": "code",
   "execution_count": 28,
   "metadata": {},
   "outputs": [
    {
     "data": {
      "text/html": [
       "<div>\n",
       "<style scoped>\n",
       "    .dataframe tbody tr th:only-of-type {\n",
       "        vertical-align: middle;\n",
       "    }\n",
       "\n",
       "    .dataframe tbody tr th {\n",
       "        vertical-align: top;\n",
       "    }\n",
       "\n",
       "    .dataframe thead th {\n",
       "        text-align: right;\n",
       "    }\n",
       "</style>\n",
       "<table border=\"1\" class=\"dataframe\">\n",
       "  <thead>\n",
       "    <tr style=\"text-align: right;\">\n",
       "      <th></th>\n",
       "      <th>text</th>\n",
       "      <th>sentiment_score</th>\n",
       "    </tr>\n",
       "  </thead>\n",
       "  <tbody>\n",
       "    <tr>\n",
       "      <th>0</th>\n",
       "      <td>HILE ACTIONS ALWAYS SPEAK LOUDER THAN WORDS, W...</td>\n",
       "      <td>0.133061</td>\n",
       "    </tr>\n",
       "    <tr>\n",
       "      <th>1</th>\n",
       "      <td>NURTURE TALENT ......... DO GOOD BUILD LEADERS...</td>\n",
       "      <td>0.246293</td>\n",
       "    </tr>\n",
       "    <tr>\n",
       "      <th>2</th>\n",
       "      <td>COMPANY PROFILE With a market cap of USD 1.3 b...</td>\n",
       "      <td>0.171939</td>\n",
       "    </tr>\n",
       "    <tr>\n",
       "      <th>3</th>\n",
       "      <td>Vision WE WILL ENABLE PEOPLE TO EXPERIENCE A B...</td>\n",
       "      <td>0.354167</td>\n",
       "    </tr>\n",
       "    <tr>\n",
       "      <th>4</th>\n",
       "      <td>CHARTERS, PRINCIPLES AND COALITIONS Our long-s...</td>\n",
       "      <td>0.173333</td>\n",
       "    </tr>\n",
       "    <tr>\n",
       "      <th>...</th>\n",
       "      <td>...</td>\n",
       "      <td>...</td>\n",
       "    </tr>\n",
       "    <tr>\n",
       "      <th>94</th>\n",
       "      <td>CASE STUDY COMBATING FIRE INCIDENTS SANTEJ Cha...</td>\n",
       "      <td>-0.028085</td>\n",
       "    </tr>\n",
       "    <tr>\n",
       "      <th>95</th>\n",
       "      <td>We have structured policies and processes unde...</td>\n",
       "      <td>0.121045</td>\n",
       "    </tr>\n",
       "    <tr>\n",
       "      <th>96</th>\n",
       "      <td>LAYING A STRONG FOUNDATION FOR PRODUCTIVITY In...</td>\n",
       "      <td>0.123106</td>\n",
       "    </tr>\n",
       "    <tr>\n",
       "      <th>97</th>\n",
       "      <td>DEVELOPMENT PROGRAMMES When we develop potenti...</td>\n",
       "      <td>0.269590</td>\n",
       "    </tr>\n",
       "    <tr>\n",
       "      <th>98</th>\n",
       "      <td>TRAINING &amp; DEVELOPMENT We are committed to the...</td>\n",
       "      <td>0.123295</td>\n",
       "    </tr>\n",
       "  </tbody>\n",
       "</table>\n",
       "<p>99 rows × 2 columns</p>\n",
       "</div>"
      ],
      "text/plain": [
       "                                                 text  sentiment_score\n",
       "0   HILE ACTIONS ALWAYS SPEAK LOUDER THAN WORDS, W...         0.133061\n",
       "1   NURTURE TALENT ......... DO GOOD BUILD LEADERS...         0.246293\n",
       "2   COMPANY PROFILE With a market cap of USD 1.3 b...         0.171939\n",
       "3   Vision WE WILL ENABLE PEOPLE TO EXPERIENCE A B...         0.354167\n",
       "4   CHARTERS, PRINCIPLES AND COALITIONS Our long-s...         0.173333\n",
       "..                                                ...              ...\n",
       "94  CASE STUDY COMBATING FIRE INCIDENTS SANTEJ Cha...        -0.028085\n",
       "95  We have structured policies and processes unde...         0.121045\n",
       "96  LAYING A STRONG FOUNDATION FOR PRODUCTIVITY In...         0.123106\n",
       "97  DEVELOPMENT PROGRAMMES When we develop potenti...         0.269590\n",
       "98  TRAINING & DEVELOPMENT We are committed to the...         0.123295\n",
       "\n",
       "[99 rows x 2 columns]"
      ]
     },
     "execution_count": 28,
     "metadata": {},
     "output_type": "execute_result"
    }
   ],
   "source": [
    "# Example of how to get sentiment scores using TextBlob\n",
    "def get_sentiment(text):\n",
    "    analysis = TextBlob(text)\n",
    "    return analysis.sentiment.polarity  # Returns a score from -1 (negative) to 1 (positive)\n",
    "\n",
    "# Apply the function to your text data to get sentiment scores\n",
    "df['sentiment_score'] = df['text'].astype(str).apply(get_sentiment)\n",
    "\n",
    "# Print the data with sentiment score\n",
    "df[['text', 'sentiment_score']]\n",
    "# Save text and sentiment scores to a new CSV file\n",
    "# df[['text', 'sentiment_score']].to_csv('sentiment_scores.csv', index=False, encoding='utf-8')\n",
    "df[['text', 'sentiment_score']]"
   ]
  },
  {
   "cell_type": "markdown",
   "metadata": {},
   "source": [
    "# **Impact Score**\n"
   ]
  },
  {
   "cell_type": "code",
   "execution_count": 21,
   "metadata": {},
   "outputs": [
    {
     "data": {
      "text/html": [
       "<div>\n",
       "<style scoped>\n",
       "    .dataframe tbody tr th:only-of-type {\n",
       "        vertical-align: middle;\n",
       "    }\n",
       "\n",
       "    .dataframe tbody tr th {\n",
       "        vertical-align: top;\n",
       "    }\n",
       "\n",
       "    .dataframe thead th {\n",
       "        text-align: right;\n",
       "    }\n",
       "</style>\n",
       "<table border=\"1\" class=\"dataframe\">\n",
       "  <thead>\n",
       "    <tr style=\"text-align: right;\">\n",
       "      <th></th>\n",
       "      <th>text</th>\n",
       "      <th>category</th>\n",
       "      <th>scaled_impact</th>\n",
       "    </tr>\n",
       "  </thead>\n",
       "  <tbody>\n",
       "    <tr>\n",
       "      <th>0</th>\n",
       "      <td>HILE ACTIONS ALWAYS SPEAK LOUDER THAN WORDS, W...</td>\n",
       "      <td>Policies, Standards, Code of Conduct</td>\n",
       "      <td>5.000000</td>\n",
       "    </tr>\n",
       "    <tr>\n",
       "      <th>1</th>\n",
       "      <td>NURTURE TALENT ......... DO GOOD BUILD LEADERS...</td>\n",
       "      <td>Employee Health, Safety &amp; Wellness</td>\n",
       "      <td>4.204066</td>\n",
       "    </tr>\n",
       "    <tr>\n",
       "      <th>2</th>\n",
       "      <td>COMPANY PROFILE With a market cap of USD 1.3 b...</td>\n",
       "      <td>Long term Viability of Core Business</td>\n",
       "      <td>2.483735</td>\n",
       "    </tr>\n",
       "    <tr>\n",
       "      <th>3</th>\n",
       "      <td>Vision WE WILL ENABLE PEOPLE TO EXPERIENCE A B...</td>\n",
       "      <td>Product Societal Value</td>\n",
       "      <td>2.699664</td>\n",
       "    </tr>\n",
       "    <tr>\n",
       "      <th>4</th>\n",
       "      <td>CHARTERS, PRINCIPLES AND COALITIONS Our long-s...</td>\n",
       "      <td>Policies, Standards, Code of Conduct</td>\n",
       "      <td>1.474696</td>\n",
       "    </tr>\n",
       "    <tr>\n",
       "      <th>...</th>\n",
       "      <td>...</td>\n",
       "      <td>...</td>\n",
       "      <td>...</td>\n",
       "    </tr>\n",
       "    <tr>\n",
       "      <th>94</th>\n",
       "      <td>CASE STUDY COMBATING FIRE INCIDENTS SANTEJ Cha...</td>\n",
       "      <td>Employee Health, Safety &amp; Wellness</td>\n",
       "      <td>0.223117</td>\n",
       "    </tr>\n",
       "    <tr>\n",
       "      <th>95</th>\n",
       "      <td>We have structured policies and processes unde...</td>\n",
       "      <td>Labour Relations &amp; Union Practices</td>\n",
       "      <td>0.273316</td>\n",
       "    </tr>\n",
       "    <tr>\n",
       "      <th>96</th>\n",
       "      <td>LAYING A STRONG FOUNDATION FOR PRODUCTIVITY In...</td>\n",
       "      <td>Training &amp; Development</td>\n",
       "      <td>0.261454</td>\n",
       "    </tr>\n",
       "    <tr>\n",
       "      <th>97</th>\n",
       "      <td>DEVELOPMENT PROGRAMMES When we develop potenti...</td>\n",
       "      <td>Training &amp; Development</td>\n",
       "      <td>0.295084</td>\n",
       "    </tr>\n",
       "    <tr>\n",
       "      <th>98</th>\n",
       "      <td>TRAINING &amp; DEVELOPMENT We are committed to the...</td>\n",
       "      <td>Training &amp; Development</td>\n",
       "      <td>0.260916</td>\n",
       "    </tr>\n",
       "  </tbody>\n",
       "</table>\n",
       "<p>99 rows × 3 columns</p>\n",
       "</div>"
      ],
      "text/plain": [
       "                                                 text  \\\n",
       "0   HILE ACTIONS ALWAYS SPEAK LOUDER THAN WORDS, W...   \n",
       "1   NURTURE TALENT ......... DO GOOD BUILD LEADERS...   \n",
       "2   COMPANY PROFILE With a market cap of USD 1.3 b...   \n",
       "3   Vision WE WILL ENABLE PEOPLE TO EXPERIENCE A B...   \n",
       "4   CHARTERS, PRINCIPLES AND COALITIONS Our long-s...   \n",
       "..                                                ...   \n",
       "94  CASE STUDY COMBATING FIRE INCIDENTS SANTEJ Cha...   \n",
       "95  We have structured policies and processes unde...   \n",
       "96  LAYING A STRONG FOUNDATION FOR PRODUCTIVITY In...   \n",
       "97  DEVELOPMENT PROGRAMMES When we develop potenti...   \n",
       "98  TRAINING & DEVELOPMENT We are committed to the...   \n",
       "\n",
       "                                category  scaled_impact  \n",
       "0   Policies, Standards, Code of Conduct       5.000000  \n",
       "1     Employee Health, Safety & Wellness       4.204066  \n",
       "2   Long term Viability of Core Business       2.483735  \n",
       "3                 Product Societal Value       2.699664  \n",
       "4   Policies, Standards, Code of Conduct       1.474696  \n",
       "..                                   ...            ...  \n",
       "94    Employee Health, Safety & Wellness       0.223117  \n",
       "95    Labour Relations & Union Practices       0.273316  \n",
       "96                Training & Development       0.261454  \n",
       "97                Training & Development       0.295084  \n",
       "98                Training & Development       0.260916  \n",
       "\n",
       "[99 rows x 3 columns]"
      ]
     },
     "execution_count": 21,
     "metadata": {},
     "output_type": "execute_result"
    }
   ],
   "source": [
    "from sklearn.feature_extraction.text import TfidfVectorizer\n",
    "from sklearn.preprocessing import MinMaxScaler\n",
    "\n",
    "# Calculate TF-IDF weights\n",
    "vectorizer = TfidfVectorizer()   #convert text data into numerical vectors using Term Frequency-Inverse Document Frequency (TF-IDF) \n",
    "tfidf_matrix = vectorizer.fit_transform(df['category'])\n",
    "df['tfidf_avg'] = tfidf_matrix.mean(axis=1)  # Calculates the average TF-IDF score for each document by taking the mean across all terms. This average is stored in the new column df['tfidf_avg'].\n",
    "\n",
    "# Calculate positional weight\n",
    "df['position_weight'] = 1 / (df.index + 1)\n",
    "\n",
    "# Calculate weighted impact score (without scaling)\n",
    "df['weighted_impact'] = df['sentiment_score'] * df['tfidf_avg'] * df['position_weight']\n",
    "\n",
    "# Scale the weighted_impact scores to 0-5 range\n",
    "scaler = MinMaxScaler(feature_range=(0, 5))\n",
    "df['scaled_impact'] = scaler.fit_transform(df[['weighted_impact']])\n",
    "\n",
    "# Save the results to a new CSV file\n",
    "# df[['text', 'category', 'scaled_impact']].to_csv('sentiment_analysis_results.csv', index=False, encoding='utf-8')\n",
    "df[['text', 'category', 'scaled_impact']]\n"
   ]
  },
  {
   "cell_type": "markdown",
   "metadata": {},
   "source": [
    "# **Hypertuning using GridSearchCV**\n",
    "\n",
    "# (MSE and MAE scorings)\n"
   ]
  },
  {
   "cell_type": "code",
   "execution_count": 22,
   "metadata": {},
   "outputs": [
    {
     "name": "stdout",
     "output_type": "stream",
     "text": [
      "[0.13410623 0.08688908 0.13134578 0.15198121 0.25953846 0.13823155\n",
      " 0.05702856 0.29839871 0.11614415 0.15330345 0.0885212  0.05643224\n",
      " 0.15114639 0.08400661 0.11661827 0.13726794 0.11875394 0.1303072\n",
      " 0.1207375  0.01600631]\n"
     ]
    }
   ],
   "source": [
    "import pandas as pd\n",
    "from sklearn.model_selection import train_test_split, GridSearchCV\n",
    "from sklearn.feature_extraction.text import TfidfVectorizer\n",
    "from sklearn.svm import SVR\n",
    "from sklearn.metrics import mean_squared_error, mean_absolute_error\n",
    "from textblob import TextBlob\n",
    "\n",
    "# ... (Your get_sentiment function and sentiment score calculation remain the same)\n",
    "\n",
    "# Split Data\n",
    "X = df['text']\n",
    "y = df['sentiment_score']\n",
    "X_train, X_test, y_train, y_test = train_test_split(X, y, test_size=0.2, random_state=42)\n",
    "\n",
    "# TF-IDF Vectorization\n",
    "tfidf_vectorizer = TfidfVectorizer(max_features=5000)\n",
    "X_train_tfidf = tfidf_vectorizer.fit_transform(X_train)\n",
    "X_test_tfidf = tfidf_vectorizer.transform(X_test)\n",
    "\n",
    "# SVR with GridSearchCV\n",
    "param_grid = {\n",
    "    'C': [0.1, 1, 10],\n",
    "    'kernel': ['linear', 'rbf'],\n",
    "    'gamma': ['scale', 'auto'],\n",
    "    'epsilon': [0.01, 0.1, 1]  # Add epsilon to the grid\n",
    "}\n",
    "\n",
    "svr = SVR()\n",
    "grid_search = GridSearchCV(svr, param_grid, cv=5, scoring='neg_mean_squared_error', n_jobs=-1)\n",
    "grid_search.fit(X_train_tfidf, y_train)\n",
    "\n",
    "# Best Model and Evaluation (Regression Metrics)\n",
    "best_svr = grid_search.best_estimator_\n",
    "y_pred = best_svr.predict(X_test_tfidf)\n",
    "print(y_pred)\n",
    "\n",
    "# print(\"Mean Squared Error:\", mean_squared_error(y_test, y_pred))\n",
    "# print(\"Mean Absolute Error:\", mean_absolute_error(y_test, y_pred))\n",
    "\n",
    "# # Optionally, examine the best hyperparameters found by GridSearchCV\n",
    "# print(\"Best Hyperparameters:\", grid_search.best_params_)\n"
   ]
  },
  {
   "cell_type": "markdown",
   "metadata": {},
   "source": [
    "# **Plotting Matrix**\n"
   ]
  },
  {
   "cell_type": "code",
   "execution_count": 30,
   "metadata": {},
   "outputs": [
    {
     "ename": "KeyError",
     "evalue": "'Impact on Stakeholders'",
     "output_type": "error",
     "traceback": [
      "\u001b[1;31m---------------------------------------------------------------------------\u001b[0m",
      "\u001b[1;31mKeyError\u001b[0m                                  Traceback (most recent call last)",
      "File \u001b[1;32mc:\\Users\\MahishaMudaliar\\anaconda3\\envs\\SentimentAnalysis\\Lib\\site-packages\\pandas\\core\\indexes\\base.py:3805\u001b[0m, in \u001b[0;36mIndex.get_loc\u001b[1;34m(self, key)\u001b[0m\n\u001b[0;32m   3804\u001b[0m \u001b[38;5;28;01mtry\u001b[39;00m:\n\u001b[1;32m-> 3805\u001b[0m     \u001b[38;5;28;01mreturn\u001b[39;00m \u001b[38;5;28;43mself\u001b[39;49m\u001b[38;5;241;43m.\u001b[39;49m\u001b[43m_engine\u001b[49m\u001b[38;5;241;43m.\u001b[39;49m\u001b[43mget_loc\u001b[49m\u001b[43m(\u001b[49m\u001b[43mcasted_key\u001b[49m\u001b[43m)\u001b[49m\n\u001b[0;32m   3806\u001b[0m \u001b[38;5;28;01mexcept\u001b[39;00m \u001b[38;5;167;01mKeyError\u001b[39;00m \u001b[38;5;28;01mas\u001b[39;00m err:\n",
      "File \u001b[1;32mindex.pyx:167\u001b[0m, in \u001b[0;36mpandas._libs.index.IndexEngine.get_loc\u001b[1;34m()\u001b[0m\n",
      "File \u001b[1;32mindex.pyx:196\u001b[0m, in \u001b[0;36mpandas._libs.index.IndexEngine.get_loc\u001b[1;34m()\u001b[0m\n",
      "File \u001b[1;32mpandas\\\\_libs\\\\hashtable_class_helper.pxi:7081\u001b[0m, in \u001b[0;36mpandas._libs.hashtable.PyObjectHashTable.get_item\u001b[1;34m()\u001b[0m\n",
      "File \u001b[1;32mpandas\\\\_libs\\\\hashtable_class_helper.pxi:7089\u001b[0m, in \u001b[0;36mpandas._libs.hashtable.PyObjectHashTable.get_item\u001b[1;34m()\u001b[0m\n",
      "\u001b[1;31mKeyError\u001b[0m: 'Impact on Stakeholders'",
      "\nThe above exception was the direct cause of the following exception:\n",
      "\u001b[1;31mKeyError\u001b[0m                                  Traceback (most recent call last)",
      "Cell \u001b[1;32mIn[30], line 9\u001b[0m\n\u001b[0;32m      6\u001b[0m plt\u001b[38;5;241m.\u001b[39mfigure(figsize\u001b[38;5;241m=\u001b[39m(\u001b[38;5;241m10\u001b[39m, \u001b[38;5;241m6\u001b[39m))  \u001b[38;5;66;03m# Adjust the figure size as needed\u001b[39;00m\n\u001b[0;32m      8\u001b[0m \u001b[38;5;28;01mfor\u001b[39;00m category \u001b[38;5;129;01min\u001b[39;00m category:\n\u001b[1;32m----> 9\u001b[0m     topic_df \u001b[38;5;241m=\u001b[39m df[\u001b[43mdf\u001b[49m\u001b[43m[\u001b[49m\u001b[38;5;124;43m'\u001b[39;49m\u001b[38;5;124;43mImpact on Stakeholders\u001b[39;49m\u001b[38;5;124;43m'\u001b[39;49m\u001b[43m]\u001b[49m \u001b[38;5;241m==\u001b[39m category]\n\u001b[0;32m     10\u001b[0m     plt\u001b[38;5;241m.\u001b[39mscatter(topic_df[\u001b[38;5;124m'\u001b[39m\u001b[38;5;124mImpact on Business\u001b[39m\u001b[38;5;124m'\u001b[39m], [category] \u001b[38;5;241m*\u001b[39m \u001b[38;5;28mlen\u001b[39m(topic_df), label\u001b[38;5;241m=\u001b[39mcategory)\n\u001b[0;32m     12\u001b[0m plt\u001b[38;5;241m.\u001b[39mxlabel(\u001b[38;5;124m\"\u001b[39m\u001b[38;5;124mSentiment Score\u001b[39m\u001b[38;5;124m\"\u001b[39m)\n",
      "File \u001b[1;32mc:\\Users\\MahishaMudaliar\\anaconda3\\envs\\SentimentAnalysis\\Lib\\site-packages\\pandas\\core\\frame.py:4102\u001b[0m, in \u001b[0;36mDataFrame.__getitem__\u001b[1;34m(self, key)\u001b[0m\n\u001b[0;32m   4100\u001b[0m \u001b[38;5;28;01mif\u001b[39;00m \u001b[38;5;28mself\u001b[39m\u001b[38;5;241m.\u001b[39mcolumns\u001b[38;5;241m.\u001b[39mnlevels \u001b[38;5;241m>\u001b[39m \u001b[38;5;241m1\u001b[39m:\n\u001b[0;32m   4101\u001b[0m     \u001b[38;5;28;01mreturn\u001b[39;00m \u001b[38;5;28mself\u001b[39m\u001b[38;5;241m.\u001b[39m_getitem_multilevel(key)\n\u001b[1;32m-> 4102\u001b[0m indexer \u001b[38;5;241m=\u001b[39m \u001b[38;5;28;43mself\u001b[39;49m\u001b[38;5;241;43m.\u001b[39;49m\u001b[43mcolumns\u001b[49m\u001b[38;5;241;43m.\u001b[39;49m\u001b[43mget_loc\u001b[49m\u001b[43m(\u001b[49m\u001b[43mkey\u001b[49m\u001b[43m)\u001b[49m\n\u001b[0;32m   4103\u001b[0m \u001b[38;5;28;01mif\u001b[39;00m is_integer(indexer):\n\u001b[0;32m   4104\u001b[0m     indexer \u001b[38;5;241m=\u001b[39m [indexer]\n",
      "File \u001b[1;32mc:\\Users\\MahishaMudaliar\\anaconda3\\envs\\SentimentAnalysis\\Lib\\site-packages\\pandas\\core\\indexes\\base.py:3812\u001b[0m, in \u001b[0;36mIndex.get_loc\u001b[1;34m(self, key)\u001b[0m\n\u001b[0;32m   3807\u001b[0m     \u001b[38;5;28;01mif\u001b[39;00m \u001b[38;5;28misinstance\u001b[39m(casted_key, \u001b[38;5;28mslice\u001b[39m) \u001b[38;5;129;01mor\u001b[39;00m (\n\u001b[0;32m   3808\u001b[0m         \u001b[38;5;28misinstance\u001b[39m(casted_key, abc\u001b[38;5;241m.\u001b[39mIterable)\n\u001b[0;32m   3809\u001b[0m         \u001b[38;5;129;01mand\u001b[39;00m \u001b[38;5;28many\u001b[39m(\u001b[38;5;28misinstance\u001b[39m(x, \u001b[38;5;28mslice\u001b[39m) \u001b[38;5;28;01mfor\u001b[39;00m x \u001b[38;5;129;01min\u001b[39;00m casted_key)\n\u001b[0;32m   3810\u001b[0m     ):\n\u001b[0;32m   3811\u001b[0m         \u001b[38;5;28;01mraise\u001b[39;00m InvalidIndexError(key)\n\u001b[1;32m-> 3812\u001b[0m     \u001b[38;5;28;01mraise\u001b[39;00m \u001b[38;5;167;01mKeyError\u001b[39;00m(key) \u001b[38;5;28;01mfrom\u001b[39;00m \u001b[38;5;21;01merr\u001b[39;00m\n\u001b[0;32m   3813\u001b[0m \u001b[38;5;28;01mexcept\u001b[39;00m \u001b[38;5;167;01mTypeError\u001b[39;00m:\n\u001b[0;32m   3814\u001b[0m     \u001b[38;5;66;03m# If we have a listlike key, _check_indexing_error will raise\u001b[39;00m\n\u001b[0;32m   3815\u001b[0m     \u001b[38;5;66;03m#  InvalidIndexError. Otherwise we fall through and re-raise\u001b[39;00m\n\u001b[0;32m   3816\u001b[0m     \u001b[38;5;66;03m#  the TypeError.\u001b[39;00m\n\u001b[0;32m   3817\u001b[0m     \u001b[38;5;28mself\u001b[39m\u001b[38;5;241m.\u001b[39m_check_indexing_error(key)\n",
      "\u001b[1;31mKeyError\u001b[0m: 'Impact on Stakeholders'"
     ]
    },
    {
     "data": {
      "text/plain": [
       "<Figure size 1000x600 with 0 Axes>"
      ]
     },
     "metadata": {},
     "output_type": "display_data"
    }
   ],
   "source": [
    "import matplotlib.pyplot as plt\n",
    "\n",
    "# Assuming you have a DataFrame `df` with columns 'sentiment_score' and 'topic'\n",
    "category = df['category'].unique()  # Get the unique topics\n",
    "\n",
    "plt.figure(figsize=(10, 6))  # Adjust the figure size as needed\n",
    "\n",
    "for category in category:\n",
    "    topic_df = df[df['Impact on Stakeholders'] == category]\n",
    "    plt.scatter(topic_df['Impact on Business'], [category] * len(topic_df), label=category)\n",
    "\n",
    "plt.xlabel(\"Sentiment Score\")\n",
    "plt.ylabel(\"Topic\")\n",
    "plt.title(\"Materiality Matrix: Sentiment vs. category\")\n",
    "plt.legend()\n",
    "plt.grid(axis='x')  # Show gridlines for sentiment scores\n",
    "plt.show()\n"
   ]
  },
  {
   "cell_type": "code",
   "execution_count": 38,
   "metadata": {},
   "outputs": [
    {
     "name": "stderr",
     "output_type": "stream",
     "text": [
      "C:\\Users\\MahishaMudaliar\\AppData\\Local\\Temp\\ipykernel_12912\\759438725.py:23: UserWarning: No artists with labels found to put in legend.  Note that artists whose label start with an underscore are ignored when legend() is called with no argument.\n",
      "  plt.legend(fontsize=12)\n"
     ]
    },
    {
     "data": {
      "image/png": "[encoded data removed]",
      "text/plain": [
       "<Figure size 1280x800 with 1 Axes>"
      ]
     },
     "metadata": {},
     "output_type": "display_data"
    }
   ],
   "source": [
    "# Import dataset \n",
    "midwest = pd.read_csv(\"https://raw.githubusercontent.com/selva86/datasets/master/midwest_filter.csv\")\n",
    "\n",
    "# Prepare Data \n",
    "# Create as many colors as there are unique midwest['category']\n",
    "categories = np.unique(midwest['category'])\n",
    "colors = [plt.cm.tab10(i/float(len(categories)-1)) for i in range(len(categories))]\n",
    "\n",
    "# Draw Plot for Each Category\n",
    "plt.figure(figsize=(16, 10), dpi= 80, facecolor='w', edgecolor='k')\n",
    "\n",
    "# for i, category in enumerate(categories):\n",
    "#     plt.scatter('area', 'poptotal', \n",
    "#                 data=midwest.loc[midwest.category==category, :], \n",
    "#                 s=20, c=colors[i], label=str(category))\n",
    "\n",
    "# Decorations\n",
    "plt.gca().set(xlim=(0, 5), ylim=(0, 5),\n",
    "              xlabel='Impact on Stakeholders', ylabel='Impact on Business')\n",
    "\n",
    "plt.xticks(fontsize=12); plt.yticks(fontsize=12)\n",
    "plt.title(\"Sustainablity Matrix\", fontsize=22)\n",
    "plt.legend(fontsize=12)    \n",
    "plt.show()"
   ]
  },
  {
   "cell_type": "markdown",
   "metadata": {},
   "source": [
    "# **Text extraction** (Paragraph format)\n"
   ]
  },
  {
   "cell_type": "code",
   "execution_count": 47,
   "metadata": {},
   "outputs": [
    {
     "name": "stdout",
     "output_type": "stream",
     "text": [
      "Processing PDF: C:\\Users\\MahishaMudaliar\\Desktop\\sentiment-analysis\\Tobe Extracted\\FII - Fidelity-Investments-2022-Environmental-Report.pdf\n",
      "Combined text file 'FII - Fidelity-Investments-2022-Environmental-Report_combined.txt' generated and stored locally.\n",
      "Processing PDF: C:\\Users\\MahishaMudaliar\\Desktop\\sentiment-analysis\\Tobe Extracted\\GAP - ESG Report 2023.pdf\n",
      "Combined text file 'GAP - ESG Report 2023_combined.txt' generated and stored locally.\n",
      "Processing PDF: C:\\Users\\MahishaMudaliar\\Desktop\\sentiment-analysis\\Tobe Extracted\\gap-inc-2020-report.pdf\n",
      "Combined text file 'gap-inc-2020-report_combined.txt' generated and stored locally.\n",
      "Processing PDF: C:\\Users\\MahishaMudaliar\\Desktop\\sentiment-analysis\\Tobe Extracted\\gap-inc-2021-esg-report.pdf\n",
      "Combined text file 'gap-inc-2021-esg-report_combined.txt' generated and stored locally.\n",
      "Processing PDF: C:\\Users\\MahishaMudaliar\\Desktop\\sentiment-analysis\\Tobe Extracted\\gap-inc-esg-report-2022.pdf\n",
      "Combined text file 'gap-inc-esg-report-2022_combined.txt' generated and stored locally.\n",
      "Processing PDF: C:\\Users\\MahishaMudaliar\\Desktop\\sentiment-analysis\\Tobe Extracted\\Insurance - SBI Life Insurance - ESG-Report-FY23.pdf\n",
      "Combined text file 'Insurance - SBI Life Insurance - ESG-Report-FY23_combined.txt' generated and stored locally.\n",
      "Processing PDF: C:\\Users\\MahishaMudaliar\\Desktop\\sentiment-analysis\\Tobe Extracted\\Mutual Funds - HDFC - HDFC AMC_AR_22-23_BRSR 040623.pdf\n",
      "Combined text file 'Mutual Funds - HDFC - HDFC AMC_AR_22-23_BRSR 040623_combined.txt' generated and stored locally.\n",
      "Processing PDF: C:\\Users\\MahishaMudaliar\\Desktop\\sentiment-analysis\\Tobe Extracted\\Mutual Funds - ICICI - ESG_Report_FY2022.pdf\n",
      "Combined text file 'Mutual Funds - ICICI - ESG_Report_FY2022_combined.txt' generated and stored locally.\n",
      "Processing PDF: C:\\Users\\MahishaMudaliar\\Desktop\\sentiment-analysis\\Tobe Extracted\\Mutual Funds - SBI - stewardship-report-2022-23.pdf\n",
      "Combined text file 'Mutual Funds - SBI - stewardship-report-2022-23_combined.txt' generated and stored locally.\n",
      "Processing PDF: C:\\Users\\MahishaMudaliar\\Desktop\\sentiment-analysis\\Tobe Extracted\\PVH CR Report 2020.pdf\n",
      "Combined text file 'PVH CR Report 2020_combined.txt' generated and stored locally.\n",
      "Processing PDF: C:\\Users\\MahishaMudaliar\\Desktop\\sentiment-analysis\\Tobe Extracted\\PVH CR Report 2021.pdf\n",
      "Error processing C:\\Users\\MahishaMudaliar\\Desktop\\sentiment-analysis\\Tobe Extracted\\PVH CR Report 2021.pdf: list assignment index out of range\n",
      "Processing PDF: C:\\Users\\MahishaMudaliar\\Desktop\\sentiment-analysis\\Tobe Extracted\\PVH CR Report 2022.pdf\n",
      "Error processing C:\\Users\\MahishaMudaliar\\Desktop\\sentiment-analysis\\Tobe Extracted\\PVH CR Report 2022.pdf: (Timeout) The operation was timeout.\n",
      "Code: Timeout\n",
      "Message: The operation was timeout.\n",
      "Processing PDF: C:\\Users\\MahishaMudaliar\\Desktop\\sentiment-analysis\\Tobe Extracted\\Retail Chain - Marks and spencerESG_Report_2024.pdf\n",
      "Combined text file 'Retail Chain - Marks and spencerESG_Report_2024_combined.txt' generated and stored locally.\n",
      "Processing PDF: C:\\Users\\MahishaMudaliar\\Desktop\\sentiment-analysis\\Tobe Extracted\\rieter-annual-report-2023-extract-on-non-financial-matters-en.pdf\n",
      "Combined text file 'rieter-annual-report-2023-extract-on-non-financial-matters-en_combined.txt' generated and stored locally.\n",
      "Processing PDF: C:\\Users\\MahishaMudaliar\\Desktop\\sentiment-analysis\\Tobe Extracted\\sustainability-report-2023.pdf\n",
      "Combined text file 'sustainability-report-2023_combined.txt' generated and stored locally.\n",
      "Processing PDF: C:\\Users\\MahishaMudaliar\\Desktop\\sentiment-analysis\\Tobe Extracted\\sustainability-report-fy2023.pdf\n",
      "Combined text file 'sustainability-report-fy2023_combined.txt' generated and stored locally.\n",
      "Processing PDF: C:\\Users\\MahishaMudaliar\\Desktop\\sentiment-analysis\\Tobe Extracted\\sustainabilityreport2022-new.pdf\n",
      "Combined text file 'sustainabilityreport2022-new_combined.txt' generated and stored locally.\n",
      "Processing PDF: C:\\Users\\MahishaMudaliar\\Desktop\\sentiment-analysis\\Tobe Extracted\\Sustainaiblity report Picanol Group 2021.pdf\n",
      "Combined text file 'Sustainaiblity report Picanol Group 2021_combined.txt' generated and stored locally.\n"
     ]
    }
   ],
   "source": [
    "import os  \n",
    "import pandas as pd  \n",
    "from azure.ai.formrecognizer import DocumentAnalysisClient  \n",
    "from azure.core.credentials import AzureKeyCredential  \n",
    "from tabulate import tabulate  \n",
    "\n",
    "# Azure credentials setup  \n",
    "fr_endpoint = \"https://smrecog.cognitiveservices.azure.com/\"  \n",
    "fr_key = \"36ecfa2cb82d47a8b5d4c572ca8ef063\"  \n",
    "\n",
    "# Function to check if a point is inside a polygon  \n",
    "def is_point_in_polygon(point, polygon):  \n",
    "    x, y = point  \n",
    "    n = len(polygon)  \n",
    "    inside = False  \n",
    "    p1x, p1y = polygon[0]  \n",
    "    for i in range(n + 1):  \n",
    "        p2x, p2y = polygon[i % n]  \n",
    "        if y > min(p1y, p2y):  \n",
    "            if y <= max(p1y, p2y):  \n",
    "                if x <= max(p1x, p2x):  \n",
    "                    if p1y != p2y:  \n",
    "                        xinters = (y - p1y) * (p2x - p1x) / (p2y - p1y) + p1x  \n",
    "                    if p1x == p2x or x <= xinters:  \n",
    "                        inside = not inside  \n",
    "        p1x, p1y = p2x, p2y  \n",
    "    return inside  \n",
    "\n",
    "# Function to check if a bounding box is inside any table spans  \n",
    "def is_in_table(page_number, bounding_box):  \n",
    "    for table_span in table_spans:  \n",
    "        if table_span[0] == page_number and is_point_in_polygon(bounding_box[0], table_span[1]):  \n",
    "            return True  \n",
    "    return False  \n",
    "\n",
    "# Function to extract table data from Form Recognizer result  \n",
    "def extract_table_data(result):  \n",
    "    tables_data = []  \n",
    "    for table in result.tables:  \n",
    "        table_data = {}  \n",
    "        for cell in table.cells:  \n",
    "            row_index = cell.row_index  \n",
    "            col_index = cell.column_index  \n",
    "            if row_index not in table_data:  \n",
    "                table_data[row_index] = {}  \n",
    "            table_data[row_index][col_index] = cell.content  \n",
    "        tables_data.append(table_data)  \n",
    "    return tables_data  \n",
    "\n",
    "# Function to extract text data from Form Recognizer result  \n",
    "def extract_text_data(result):  \n",
    "    pages_text = {}  \n",
    "    for page in result.pages:  \n",
    "        page_text = \"\"  \n",
    "        for line in page.lines:  \n",
    "            if not is_in_table(page.page_number, line.polygon):  \n",
    "                text = line.content.decode(\"utf-8\") if isinstance(line.content, bytes) else line.content  \n",
    "                page_text += text + \" \"  # Concatenate lines with a space  \n",
    "        pages_text[page.page_number] = page_text.strip()  # Strip trailing space  \n",
    " \n",
    "    # Combine text data with each page in a separate paragraph  \n",
    "    combined_text_data = \"\\n\\n\\n\\n\".join(pages_text.get(page_number, \"\") for page_number in sorted(pages_text))  \n",
    "    return combined_text_data  \n",
    "\n",
    "# Function to process PDF and store extracted data in a single text file  \n",
    "def process_pdf_and_store_data(pdf_path, local_directory):  \n",
    "    try:  \n",
    "        document_analysis_client = DocumentAnalysisClient(endpoint=fr_endpoint, credential=AzureKeyCredential(fr_key))  \n",
    "        print(f\"Processing PDF: {pdf_path}\")  \n",
    "         \n",
    "        with open(pdf_path, \"rb\") as pdf_file:  \n",
    "            poller = document_analysis_client.begin_analyze_document(\"prebuilt-layout\", document=pdf_file)  \n",
    "            result = poller.result()  \n",
    " \n",
    "        # Extract table spans  \n",
    "        global table_spans  \n",
    "        table_spans = []  \n",
    "        for table in result.tables:  \n",
    "            for cell in table.cells:  \n",
    "                if cell.bounding_regions:  \n",
    "                    page_number = cell.bounding_regions[0].page_number  \n",
    "                    bounding_box = cell.bounding_regions[0].polygon  \n",
    "                    table_spans.append((page_number, bounding_box))  \n",
    " \n",
    "        tables_data = extract_table_data(result)  \n",
    "        text_data = extract_text_data(result)  \n",
    " \n",
    "        # Generate filename for the combined text file  \n",
    "        base_filename = os.path.basename(pdf_path).replace('.pdf', '')  \n",
    "        combined_filename = f\"{base_filename}_combined.txt\"  \n",
    "        combined_path = os.path.join(local_directory, combined_filename)  \n",
    " \n",
    "        # Write combined data to file  \n",
    "        with open(combined_path, 'w', encoding='utf-8') as file:  \n",
    "            # Write text data  \n",
    "            file.write(\"Extracted Text:\\n\")  \n",
    "            file.write(text_data)  \n",
    "            file.write(\"\\n\\n\")  \n",
    " \n",
    "            # Write table data  \n",
    "            for idx, table_data in enumerate(tables_data):  \n",
    "                file.write(f\"Table {idx + 1}:\\n\")  \n",
    "                max_row = max(table_data.keys())  \n",
    "                max_col = max(max(row.keys() for row in table_data.values()))  \n",
    " \n",
    "                # Initialize the data array  \n",
    "                data = [[\"\" for _ in range(max_col + 1)] for _ in range(max_row + 1)]  \n",
    " \n",
    "                # Populate the data array with table content  \n",
    "                for row_idx, row_data in table_data.items():  \n",
    "                    for col_idx, cell_content in row_data.items():  \n",
    "                        data[row_idx][col_idx] = cell_content  \n",
    " \n",
    "                # Convert the data array into a pandas DataFrame  \n",
    "                df = pd.DataFrame(data)  \n",
    " \n",
    "                # Convert DataFrame to markdown table format and write to file  \n",
    "                table_markdown = tabulate(df.values, tablefmt=\"pipe\")  \n",
    "                file.write(table_markdown)  \n",
    "                file.write(\"\\n\\n\")  \n",
    " \n",
    "        return combined_filename  \n",
    " \n",
    "    except Exception as e:  \n",
    "        print(f\"Error processing {pdf_path}: {e}\")  \n",
    "        return None  \n",
    "\n",
    "# Define input and output directories  \n",
    "input_directory = r\"C:\\Users\\MahishaMudaliar\\Desktop\\sentiment-analysis\\Tobe Extracted\"  \n",
    "output_directory = r\"C:\\Users\\MahishaMudaliar\\Desktop\\sentiment-analysis\\Extracted text\"  \n",
    "\n",
    "# Ensure the output directory exists  \n",
    "if not os.path.exists(output_directory):  \n",
    "    os.makedirs(output_directory)  \n",
    "\n",
    "# Check if input directory is a file or directory  \n",
    "if os.path.isfile(input_directory):  \n",
    "    # Process a single PDF file  \n",
    "    combined_filename = process_pdf_and_store_data(input_directory, output_directory)  \n",
    "    if combined_filename:  \n",
    "        print(f\"Combined text file '{combined_filename}' generated and stored locally.\")  \n",
    "else:  \n",
    "    # Traverse the input directory and its subdirectories to find all PDF files  \n",
    "    for root, dirs, files in os.walk(input_directory):  \n",
    "        for file in files:  \n",
    "            if file.endswith('.pdf'):  \n",
    "                pdf_path = os.path.join(root, file)  \n",
    "                combined_filename = process_pdf_and_store_data(pdf_path, output_directory)  \n",
    "                if combined_filename:  \n",
    "                    print(f\"Combined text file '{combined_filename}' generated and stored locally.\")  \n"
   ]
  },
  {
   "cell_type": "code",
   "execution_count": 42,
   "metadata": {},
   "outputs": [
    {
     "name": "stdout",
     "output_type": "stream",
     "text": [
      "Channels:\n",
      " - defaults\n",
      "Platform: win-64\n",
      "Collecting package metadata (repodata.json): ...working... done\n",
      "Solving environment: ...working... failed\n"
     ]
    },
    {
     "name": "stderr",
     "output_type": "stream",
     "text": [
      "\n",
      "PackagesNotFoundError: The following packages are not available from current channels:\n",
      "\n",
      "  - azure-ai-formrecognizer\n",
      "\n",
      "Current channels:\n",
      "\n",
      "  - defaults\n",
      "\n",
      "To search for alternate channels that may provide the conda package you're\n",
      "looking for, navigate to\n",
      "\n",
      "    https://anaconda.org\n",
      "\n",
      "and use the search bar at the top of the page.\n",
      "\n",
      "\n"
     ]
    }
   ],
   "source": [
    "!conda install azure-ai-formrecognizer\n"
   ]
  }
 ],
 "metadata": {
  "kernelspec": {
   "display_name": "Python 3",
   "language": "python",
   "name": "python3"
  },
  "language_info": {
   "codemirror_mode": {
    "name": "ipython",
    "version": 3
   },
   "file_extension": ".py",
   "mimetype": "text/x-python",
   "name": "python",
   "nbconvert_exporter": "python",
   "pygments_lexer": "ipython3",
   "version": "3.11.9"
  }
 },
 "nbformat": 4,
 "nbformat_minor": 2
}
